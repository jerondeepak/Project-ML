{
  "nbformat": 4,
  "nbformat_minor": 0,
  "metadata": {
    "colab": {
      "name": "chapter2.ipynb",
      "provenance": [],
      "authorship_tag": "ABX9TyMEqIT7FCOJnsnAgFdkV9CM",
      "include_colab_link": true
    },
    "kernelspec": {
      "name": "python3",
      "display_name": "Python 3"
    },
    "language_info": {
      "name": "python"
    }
  },
  "cells": [
    {
      "cell_type": "markdown",
      "metadata": {
        "id": "view-in-github",
        "colab_type": "text"
      },
      "source": [
        "<a href=\"https://colab.research.google.com/github/jerondeepak/Project-ML/blob/main/chapter2.ipynb\" target=\"_parent\"><img src=\"https://colab.research.google.com/assets/colab-badge.svg\" alt=\"Open In Colab\"/></a>"
      ]
    },
    {
      "cell_type": "code",
      "execution_count": null,
      "metadata": {
        "id": "_MXcbw2RSr0s"
      },
      "outputs": [],
      "source": [
        "from tensorflow.keras.datasets import mnist\n",
        "(train_images, train_labels ) , (test_images, test_labels) = mnist.load_data()"
      ]
    },
    {
      "cell_type": "code",
      "source": [
        "train_images.shape"
      ],
      "metadata": {
        "colab": {
          "base_uri": "https://localhost:8080/"
        },
        "id": "F_DwZgAfTBFU",
        "outputId": "f98dc8e0-be7e-45a0-893d-ac16da84df00"
      },
      "execution_count": null,
      "outputs": [
        {
          "output_type": "execute_result",
          "data": {
            "text/plain": [
              "(60000, 28, 28)"
            ]
          },
          "metadata": {},
          "execution_count": 2
        }
      ]
    },
    {
      "cell_type": "code",
      "source": [
        "train_labels.shape"
      ],
      "metadata": {
        "colab": {
          "base_uri": "https://localhost:8080/"
        },
        "id": "BYqAKK2bTKh2",
        "outputId": "5c5079ea-7333-4990-98cb-630f459b0cbd"
      },
      "execution_count": null,
      "outputs": [
        {
          "output_type": "execute_result",
          "data": {
            "text/plain": [
              "(60000,)"
            ]
          },
          "metadata": {},
          "execution_count": 5
        }
      ]
    },
    {
      "cell_type": "code",
      "source": [
        "test_images.shape"
      ],
      "metadata": {
        "colab": {
          "base_uri": "https://localhost:8080/"
        },
        "id": "c6nDM0j_TS74",
        "outputId": "e0afd763-0ef1-4441-b1b8-87a705c6e82a"
      },
      "execution_count": null,
      "outputs": [
        {
          "output_type": "execute_result",
          "data": {
            "text/plain": [
              "(10000, 28, 28)"
            ]
          },
          "metadata": {},
          "execution_count": 6
        }
      ]
    },
    {
      "cell_type": "code",
      "source": [
        "test_labels.shape"
      ],
      "metadata": {
        "colab": {
          "base_uri": "https://localhost:8080/"
        },
        "id": "MavnNu8vTbAq",
        "outputId": "f7b6d618-ce35-4ea5-b4df-239d96f34099"
      },
      "execution_count": null,
      "outputs": [
        {
          "output_type": "execute_result",
          "data": {
            "text/plain": [
              "(10000,)"
            ]
          },
          "metadata": {},
          "execution_count": 7
        }
      ]
    },
    {
      "cell_type": "code",
      "source": [
        ""
      ],
      "metadata": {
        "id": "2ZCXJzLCTcjP"
      },
      "execution_count": null,
      "outputs": []
    },
    {
      "cell_type": "code",
      "source": [
        "from tensorflow import keras\n",
        "from tensorflow.keras import layers\n",
        "\n",
        "model = keras.Sequential([\n",
        "                          layers.Dense(512, activation='relu'),\n",
        "                          layers.Dense(10,activation='softmax')\n",
        "])"
      ],
      "metadata": {
        "id": "m3UZ0C98TfRt"
      },
      "execution_count": null,
      "outputs": []
    },
    {
      "cell_type": "code",
      "source": [
        "model.compile(\n",
        "    optimizer='rmsprop',\n",
        "    loss='sparse_categorical_crossentropy',\n",
        "    metrics=['accuracy']\n",
        ")"
      ],
      "metadata": {
        "id": "pok9_35rTwcc"
      },
      "execution_count": null,
      "outputs": []
    },
    {
      "cell_type": "code",
      "source": [
        "train_images = train_images.reshape((60000, 28*28))\n",
        "train_images = train_images.astype('float32')/255\n",
        "test_images   = test_images.reshape((10000, 28*28))\n",
        "test_images   = test_images.astype('float32')/255"
      ],
      "metadata": {
        "id": "kHQ3eSKMUINu"
      },
      "execution_count": null,
      "outputs": []
    },
    {
      "cell_type": "code",
      "source": [
        "model.fit(train_images, train_labels, epochs=5, batch_size=128)"
      ],
      "metadata": {
        "colab": {
          "base_uri": "https://localhost:8080/"
        },
        "id": "OMN9TGnZVX1U",
        "outputId": "22fb55d3-6ab9-4474-e826-e8eb0a01f272"
      },
      "execution_count": null,
      "outputs": [
        {
          "output_type": "stream",
          "name": "stdout",
          "text": [
            "Epoch 1/5\n",
            "469/469 [==============================] - 5s 10ms/step - loss: 0.2549 - accuracy: 0.9268\n",
            "Epoch 2/5\n",
            "469/469 [==============================] - 4s 10ms/step - loss: 0.1024 - accuracy: 0.9688\n",
            "Epoch 3/5\n",
            "469/469 [==============================] - 5s 10ms/step - loss: 0.0665 - accuracy: 0.9800\n",
            "Epoch 4/5\n",
            "469/469 [==============================] - 5s 10ms/step - loss: 0.0498 - accuracy: 0.9850\n",
            "Epoch 5/5\n",
            "469/469 [==============================] - 4s 10ms/step - loss: 0.0363 - accuracy: 0.9894\n"
          ]
        },
        {
          "output_type": "execute_result",
          "data": {
            "text/plain": [
              "<keras.callbacks.History at 0x7f6dcc9cde10>"
            ]
          },
          "metadata": {},
          "execution_count": 13
        }
      ]
    },
    {
      "cell_type": "code",
      "source": [
        "test_digits = test_images[0:10]\n",
        "predictions = model.predict(test_digits)\n",
        "print (predictions)"
      ],
      "metadata": {
        "colab": {
          "base_uri": "https://localhost:8080/"
        },
        "id": "DalUkozyVgAL",
        "outputId": "fc47478e-ca9d-4111-f15b-4ca0d4191544"
      },
      "execution_count": null,
      "outputs": [
        {
          "output_type": "stream",
          "name": "stdout",
          "text": [
            "[[1.12917729e-08 1.25678964e-11 3.55975681e-06 6.42831437e-05\n",
            "  7.13604414e-13 1.79307431e-08 5.05263623e-15 9.99930382e-01\n",
            "  1.24114607e-07 1.70128726e-06]\n",
            " [6.01096395e-10 5.27239408e-08 9.99999642e-01 2.74400207e-07\n",
            "  4.26294907e-17 6.82133248e-08 1.04145345e-10 2.92155329e-17\n",
            "  1.24396395e-08 1.07187295e-16]\n",
            " [8.22330719e-08 9.99106824e-01 1.03118600e-05 1.09524071e-05\n",
            "  2.62530466e-05 5.77332721e-05 1.04705532e-05 6.19299026e-05\n",
            "  7.12662353e-04 2.63614902e-06]\n",
            " [9.99877334e-01 5.56844761e-12 6.22652578e-06 3.26979375e-06\n",
            "  1.18889098e-07 6.42466402e-05 6.75381671e-06 4.30677756e-06\n",
            "  9.96397009e-09 3.76218341e-05]\n",
            " [1.91647109e-06 7.44089512e-11 1.16889942e-06 3.83514127e-08\n",
            "  9.97855246e-01 2.91235807e-07 9.94825882e-07 1.99049173e-04\n",
            "  1.46619402e-06 1.93985179e-03]\n",
            " [1.75850368e-09 9.99919415e-01 6.08606072e-08 8.15107626e-07\n",
            "  3.11447047e-06 1.23044316e-07 3.51897071e-08 6.01599641e-05\n",
            "  1.57178711e-05 5.17716387e-07]\n",
            " [2.56389354e-11 4.05279277e-09 2.48849137e-08 4.80041518e-09\n",
            "  9.99519944e-01 4.55770123e-06 1.07678851e-07 3.53606883e-05\n",
            "  3.54264252e-04 8.57338309e-05]\n",
            " [2.84579416e-10 8.92697400e-08 1.79627546e-06 7.49654719e-04\n",
            "  3.23585933e-04 4.87641728e-06 2.18974526e-11 1.14407821e-05\n",
            "  2.47166281e-06 9.98906016e-01]\n",
            " [9.65250213e-10 1.79184820e-10 5.52132178e-07 1.47208690e-08\n",
            "  2.33889386e-05 9.90872085e-01 8.89131892e-03 1.77914294e-09\n",
            "  2.05826698e-04 6.78205060e-06]\n",
            " [9.44241473e-12 2.18877989e-14 2.04543067e-11 2.52789164e-06\n",
            "  6.62776816e-04 1.56130149e-08 1.21439371e-13 4.10958201e-05\n",
            "  2.64371600e-04 9.99029160e-01]]\n"
          ]
        }
      ]
    },
    {
      "cell_type": "code",
      "source": [
        "predictions[0]"
      ],
      "metadata": {
        "colab": {
          "base_uri": "https://localhost:8080/"
        },
        "id": "925DueigV0ZU",
        "outputId": "9bdc42d2-c202-4235-84d8-8dfba982319f"
      },
      "execution_count": null,
      "outputs": [
        {
          "output_type": "execute_result",
          "data": {
            "text/plain": [
              "array([1.1291773e-08, 1.2567896e-11, 3.5597568e-06, 6.4283144e-05,\n",
              "       7.1360441e-13, 1.7930743e-08, 5.0526362e-15, 9.9993038e-01,\n",
              "       1.2411461e-07, 1.7012873e-06], dtype=float32)"
            ]
          },
          "metadata": {},
          "execution_count": 15
        }
      ]
    },
    {
      "cell_type": "code",
      "source": [
        "predictions[0].argmax()"
      ],
      "metadata": {
        "colab": {
          "base_uri": "https://localhost:8080/"
        },
        "id": "yZA_orZ0Wbne",
        "outputId": "616f2264-19e7-4704-8e2d-8863a3caade0"
      },
      "execution_count": null,
      "outputs": [
        {
          "output_type": "execute_result",
          "data": {
            "text/plain": [
              "7"
            ]
          },
          "metadata": {},
          "execution_count": 16
        }
      ]
    },
    {
      "cell_type": "code",
      "source": [
        "predictions[0][7]"
      ],
      "metadata": {
        "colab": {
          "base_uri": "https://localhost:8080/"
        },
        "id": "en5vn7kWWeju",
        "outputId": "a1abdb5b-2d38-442f-c628-9cb68f7e3506"
      },
      "execution_count": null,
      "outputs": [
        {
          "output_type": "execute_result",
          "data": {
            "text/plain": [
              "0.9999304"
            ]
          },
          "metadata": {},
          "execution_count": 17
        }
      ]
    },
    {
      "cell_type": "code",
      "source": [
        "test_labels[0]"
      ],
      "metadata": {
        "colab": {
          "base_uri": "https://localhost:8080/"
        },
        "id": "IQdq5xFVWjqr",
        "outputId": "e78383c8-8036-4e34-8519-2d99a2b731b1"
      },
      "execution_count": null,
      "outputs": [
        {
          "output_type": "execute_result",
          "data": {
            "text/plain": [
              "7"
            ]
          },
          "metadata": {},
          "execution_count": 18
        }
      ]
    },
    {
      "cell_type": "code",
      "source": [
        "test_loss, test_acc = model.evaluate(test_images, test_labels)"
      ],
      "metadata": {
        "colab": {
          "base_uri": "https://localhost:8080/"
        },
        "id": "IyrqF6JfWrRD",
        "outputId": "b57bc257-7e2a-46f5-df91-57ae470d1ac4"
      },
      "execution_count": null,
      "outputs": [
        {
          "output_type": "stream",
          "name": "stdout",
          "text": [
            "313/313 [==============================] - 1s 2ms/step - loss: 0.0677 - accuracy: 0.9779\n"
          ]
        }
      ]
    },
    {
      "cell_type": "code",
      "source": [
        "print (f' accuracy {test_acc}')"
      ],
      "metadata": {
        "colab": {
          "base_uri": "https://localhost:8080/"
        },
        "id": "trRWzognWyxd",
        "outputId": "2a40675d-c526-48a9-fda3-afabbf178f84"
      },
      "execution_count": null,
      "outputs": [
        {
          "output_type": "stream",
          "name": "stdout",
          "text": [
            " accuracy 0.9779000282287598\n"
          ]
        }
      ]
    },
    {
      "cell_type": "code",
      "source": [
        "import numpy as np"
      ],
      "metadata": {
        "id": "1Cx-UnPOW47r"
      },
      "execution_count": null,
      "outputs": []
    },
    {
      "cell_type": "code",
      "source": [
        "x=np.array(12)\n",
        "x"
      ],
      "metadata": {
        "colab": {
          "base_uri": "https://localhost:8080/"
        },
        "id": "z2xu-vogXSh6",
        "outputId": "c26b974b-411c-48c2-94d2-f522fb601461"
      },
      "execution_count": null,
      "outputs": [
        {
          "output_type": "execute_result",
          "data": {
            "text/plain": [
              "array(12)"
            ]
          },
          "metadata": {},
          "execution_count": 22
        }
      ]
    },
    {
      "cell_type": "code",
      "source": [
        "x.ndim"
      ],
      "metadata": {
        "colab": {
          "base_uri": "https://localhost:8080/"
        },
        "id": "oHDYeM5LXVIx",
        "outputId": "67e8a133-3993-452b-a7f2-da5d4109ddf6"
      },
      "execution_count": null,
      "outputs": [
        {
          "output_type": "execute_result",
          "data": {
            "text/plain": [
              "0"
            ]
          },
          "metadata": {},
          "execution_count": 23
        }
      ]
    },
    {
      "cell_type": "code",
      "source": [
        "x=np.array([12,23,45,68,99])"
      ],
      "metadata": {
        "id": "SZD8jSCfXW0e"
      },
      "execution_count": null,
      "outputs": []
    },
    {
      "cell_type": "code",
      "source": [
        "x.ndim"
      ],
      "metadata": {
        "colab": {
          "base_uri": "https://localhost:8080/"
        },
        "id": "7b2G3cMRXbwn",
        "outputId": "4decf9fe-8999-416b-b699-7436d6e70e0f"
      },
      "execution_count": null,
      "outputs": [
        {
          "output_type": "execute_result",
          "data": {
            "text/plain": [
              "1"
            ]
          },
          "metadata": {},
          "execution_count": 25
        }
      ]
    },
    {
      "cell_type": "code",
      "source": [
        "x=np.array([[1,2,3],\n",
        "            [4,5,6],\n",
        "            [7,8,9]])\n",
        "x.ndim"
      ],
      "metadata": {
        "colab": {
          "base_uri": "https://localhost:8080/"
        },
        "id": "dRB8zd9CXdW4",
        "outputId": "bdf6eac2-2f1d-4ea8-a97d-80fe119f42f8"
      },
      "execution_count": null,
      "outputs": [
        {
          "output_type": "execute_result",
          "data": {
            "text/plain": [
              "2"
            ]
          },
          "metadata": {},
          "execution_count": 26
        }
      ]
    },
    {
      "cell_type": "code",
      "source": [
        "x=np.array([[[5,78,2,34,0],\n",
        "              [6,79,3,35,1]],\n",
        "            [[5,78,2,34,0],\n",
        "             [7,80,4,36,2]]])\n",
        "x.ndim"
      ],
      "metadata": {
        "colab": {
          "base_uri": "https://localhost:8080/"
        },
        "id": "PIJnes0BXmLu",
        "outputId": "771710f1-b04b-4b19-ad42-e71995912df7"
      },
      "execution_count": null,
      "outputs": [
        {
          "output_type": "execute_result",
          "data": {
            "text/plain": [
              "3"
            ]
          },
          "metadata": {},
          "execution_count": 33
        }
      ]
    },
    {
      "cell_type": "code",
      "source": [
        "(train_images, train_labels), (test_images,test_labels) = mnist.load_data()"
      ],
      "metadata": {
        "id": "L7sCCy7eYZ2k"
      },
      "execution_count": null,
      "outputs": []
    },
    {
      "cell_type": "code",
      "source": [
        ""
      ],
      "metadata": {
        "id": "J-6Nb2yiYg7E"
      },
      "execution_count": null,
      "outputs": []
    },
    {
      "cell_type": "code",
      "source": [
        "train_images.ndim"
      ],
      "metadata": {
        "colab": {
          "base_uri": "https://localhost:8080/"
        },
        "id": "fIXlu-RGX9Xs",
        "outputId": "9cd2308a-1a02-49d8-f882-575289379843"
      },
      "execution_count": null,
      "outputs": [
        {
          "output_type": "execute_result",
          "data": {
            "text/plain": [
              "3"
            ]
          },
          "metadata": {},
          "execution_count": 35
        }
      ]
    },
    {
      "cell_type": "code",
      "source": [
        "test_images.ndim"
      ],
      "metadata": {
        "colab": {
          "base_uri": "https://localhost:8080/"
        },
        "id": "FIkxsUIKYBPY",
        "outputId": "c8155530-c756-461f-9da5-80efd4d70f30"
      },
      "execution_count": null,
      "outputs": [
        {
          "output_type": "execute_result",
          "data": {
            "text/plain": [
              "3"
            ]
          },
          "metadata": {},
          "execution_count": 36
        }
      ]
    },
    {
      "cell_type": "code",
      "source": [
        "import matplotlib.pyplot as plt\n",
        "digit = train_images[4]\n",
        "plt.imshow(digit, cmap=plt.cm.binary)\n",
        "plt.show()"
      ],
      "metadata": {
        "colab": {
          "base_uri": "https://localhost:8080/",
          "height": 265
        },
        "id": "gHIMA4_NYDHT",
        "outputId": "853c5c62-b8ef-4e5e-a5fe-cccd8c4de223"
      },
      "execution_count": null,
      "outputs": [
        {
          "output_type": "display_data",
          "data": {
            "image/png": "[encoded data removed]",
            "text/plain": [
              "<Figure size 432x288 with 1 Axes>"
            ]
          },
          "metadata": {
            "needs_background": "light"
          }
        }
      ]
    },
    {
      "cell_type": "code",
      "source": [
        "train_labels[4]"
      ],
      "metadata": {
        "colab": {
          "base_uri": "https://localhost:8080/"
        },
        "id": "BpBue_-FYvBN",
        "outputId": "8a920ddb-bfc8-4b7a-8400-cbf1fe62c966"
      },
      "execution_count": null,
      "outputs": [
        {
          "output_type": "execute_result",
          "data": {
            "text/plain": [
              "9"
            ]
          },
          "metadata": {},
          "execution_count": 40
        }
      ]
    },
    {
      "cell_type": "code",
      "source": [
        "import cv2\n",
        "cv2.imwrite('digit9.png', digit)"
      ],
      "metadata": {
        "colab": {
          "base_uri": "https://localhost:8080/"
        },
        "id": "YJggXRHPY3f1",
        "outputId": "0eccc2cb-ccd6-4523-ecb7-9c9560e41efe"
      },
      "execution_count": null,
      "outputs": [
        {
          "output_type": "execute_result",
          "data": {
            "text/plain": [
              "True"
            ]
          },
          "metadata": {},
          "execution_count": 41
        }
      ]
    },
    {
      "cell_type": "code",
      "source": [
        ""
      ],
      "metadata": {
        "id": "LG8mLYOGbpCR"
      },
      "execution_count": null,
      "outputs": []
    },
    {
      "cell_type": "code",
      "source": [
        "def naive_relu(x):\n",
        "  assert len(x.shape)==2\n",
        "  x=x.copy()\n",
        "  for i in range(x.shape[0]):\n",
        "    for j in range(x.shape[1]):\n",
        "      x[i,j] = max(x[i,j],0)\n",
        "  return x\n"
      ],
      "metadata": {
        "id": "OS1p8clMYRS3"
      },
      "execution_count": null,
      "outputs": []
    },
    {
      "cell_type": "code",
      "source": [
        "def naive_add(x,y):\n",
        "  assert len(x.shape)==2\n",
        "  assert x.shape==y.shape\n",
        "  x=x.copy()\n",
        "  for i in range(x.shape[0]):\n",
        "    for j in range(x.shape[1]):\n",
        "      x[i,j]+=y[i,j]\n",
        "  return x"
      ],
      "metadata": {
        "id": "OUMT87y7qKy0"
      },
      "execution_count": null,
      "outputs": []
    },
    {
      "cell_type": "code",
      "source": [
        "import time \n",
        "import numpy as np\n",
        "\n",
        "x=np.random.random((20,100))\n",
        "y=np.random.random((20,100))"
      ],
      "metadata": {
        "id": "Yn_hXjtqqi5h"
      },
      "execution_count": null,
      "outputs": []
    },
    {
      "cell_type": "code",
      "source": [
        "t0 = time.time() \n",
        "for _ in range(1000):\n",
        "  z=x+y\n",
        "  z=np.maximum(z,0)\n",
        "print (f'Time : {time.time()-t0}')"
      ],
      "metadata": {
        "colab": {
          "base_uri": "https://localhost:8080/"
        },
        "id": "QqdLqtbCrCjM",
        "outputId": "4c75dd0d-2036-4eec-e1b6-0798865e1bfd"
      },
      "execution_count": null,
      "outputs": [
        {
          "output_type": "stream",
          "name": "stdout",
          "text": [
            "Time : 0.008135795593261719\n"
          ]
        }
      ]
    },
    {
      "cell_type": "code",
      "source": [
        "t0 = time.time()\n",
        "for _ in range(1000):\n",
        "  z=naive_add(x,y)\n",
        "  z=naive_relu(z)\n",
        "print (f'Time : {time.time()-t0}')"
      ],
      "metadata": {
        "colab": {
          "base_uri": "https://localhost:8080/"
        },
        "id": "fiLXcAeOrZXM",
        "outputId": "80890224-fad8-45f4-e8f1-7e3c2cc230de"
      },
      "execution_count": null,
      "outputs": [
        {
          "output_type": "stream",
          "name": "stdout",
          "text": [
            "Time : 2.726316213607788\n"
          ]
        }
      ]
    },
    {
      "cell_type": "code",
      "source": [
        "def naive_relu(x):\n",
        "    assert len(x.shape) == 2\n",
        "    x = x.copy()\n",
        "    for i in range(x.shape[0]):\n",
        "        for j in range(x.shape[1]):\n",
        "            x[i, j] = max(x[i, j], 0)\n",
        "    return x"
      ],
      "metadata": {
        "id": "-qs9YSFzrp0Y"
      },
      "execution_count": null,
      "outputs": []
    },
    {
      "cell_type": "code",
      "source": [
        "def naive_add(x, y):\n",
        "    assert len(x.shape) == 2\n",
        "    assert x.shape == y.shape\n",
        "    x = x.copy()\n",
        "    for i in range(x.shape[0]):\n",
        "        for j in range(x.shape[1]):\n",
        "            x[i, j] += y[i, j]\n",
        "    return x\n"
      ],
      "metadata": {
        "id": "uLRrR9NCr_1a"
      },
      "execution_count": null,
      "outputs": []
    },
    {
      "cell_type": "code",
      "source": [
        "import time\n",
        "\n",
        "x = np.random.random((20, 100))\n",
        "y = np.random.random((20, 100))\n",
        "\n",
        "t0 = time.time()\n",
        "for _ in range(1000):\n",
        "    z = x + y\n",
        "    z = np.maximum(z, 0.)\n",
        "print(\"Took: {0:.2f} s\".format(time.time() - t0))"
      ],
      "metadata": {
        "colab": {
          "base_uri": "https://localhost:8080/"
        },
        "id": "GwyEY8lhsCuE",
        "outputId": "4defb584-d927-4ccd-81df-28926348c1af"
      },
      "execution_count": null,
      "outputs": [
        {
          "output_type": "stream",
          "name": "stdout",
          "text": [
            "Took: 0.01 s\n"
          ]
        }
      ]
    },
    {
      "cell_type": "code",
      "source": [
        "t0 = time.time()\n",
        "for _ in range(1000):\n",
        "    z = naive_add(x, y)\n",
        "    z = naive_relu(z)\n",
        "print(\"Took: {0:.2f} s\".format(time.time() - t0))\n"
      ],
      "metadata": {
        "colab": {
          "base_uri": "https://localhost:8080/"
        },
        "id": "jyhV4-phsc2S",
        "outputId": "2da9f637-0225-4b7f-8cd6-3d113d2c88df"
      },
      "execution_count": null,
      "outputs": [
        {
          "output_type": "stream",
          "name": "stdout",
          "text": [
            "Took: 2.74 s\n"
          ]
        }
      ]
    },
    {
      "cell_type": "code",
      "source": [
        "import numpy as np\n",
        "X = np.random.random((32, 10))\n",
        "y = np.random.random((10,))"
      ],
      "metadata": {
        "id": "TM_UxEQpsgtL"
      },
      "execution_count": null,
      "outputs": []
    },
    {
      "cell_type": "code",
      "source": [
        "X"
      ],
      "metadata": {
        "colab": {
          "base_uri": "https://localhost:8080/"
        },
        "id": "Aue7nv_y_xj-",
        "outputId": "c9a8c40a-a070-4e57-d4f8-5a15f227a0d9"
      },
      "execution_count": null,
      "outputs": [
        {
          "output_type": "execute_result",
          "data": {
            "text/plain": [
              "array([[0.98114722, 0.42525775, 0.72466047, 0.9650953 , 0.72870407,\n",
              "        0.27456231, 0.93024854, 0.27171195, 0.25258972, 0.22386477],\n",
              "       [0.91333909, 0.12078436, 0.60503072, 0.41046779, 0.1842638 ,\n",
              "        0.84777997, 0.2296014 , 0.30538812, 0.64350099, 0.80334223],\n",
              "       [0.05918366, 0.00531625, 0.82337505, 0.52515708, 0.07882243,\n",
              "        0.3066047 , 0.73023656, 0.60574171, 0.50970807, 0.18782478],\n",
              "       [0.9021214 , 0.9539246 , 0.55438509, 0.15875992, 0.6222967 ,\n",
              "        0.2440437 , 0.3032778 , 0.37281144, 0.66691835, 0.87710324],\n",
              "       [0.67081711, 0.69017993, 0.85988604, 0.64895003, 0.85441257,\n",
              "        0.08738054, 0.68358339, 0.10164391, 0.68242367, 0.63352436],\n",
              "       [0.24593279, 0.97447775, 0.27328666, 0.97732633, 0.28881012,\n",
              "        0.01592866, 0.47679018, 0.65836071, 0.48919269, 0.20433166],\n",
              "       [0.51004566, 0.38909789, 0.76124525, 0.55049829, 0.32159895,\n",
              "        0.09633751, 0.69669704, 0.03405148, 0.34579622, 0.65697059],\n",
              "       [0.45482577, 0.70990846, 0.5500313 , 0.25832723, 0.90398884,\n",
              "        0.95487682, 0.77479713, 0.00557801, 0.32944308, 0.99402963],\n",
              "       [0.23591929, 0.24344761, 0.18869113, 0.27115288, 0.23366105,\n",
              "        0.00878541, 0.03619297, 0.15506075, 0.64058574, 0.64129842],\n",
              "       [0.75975371, 0.59526777, 0.46301521, 0.23234145, 0.53953234,\n",
              "        0.65625561, 0.33095385, 0.0327534 , 0.56494116, 0.01037213],\n",
              "       [0.66796272, 0.79013632, 0.59332102, 0.28389254, 0.8289111 ,\n",
              "        0.22354058, 0.84773122, 0.68971847, 0.1335423 , 0.83847582],\n",
              "       [0.1614756 , 0.6988415 , 0.16830073, 0.45029776, 0.50317847,\n",
              "        0.26949452, 0.70709581, 0.99170399, 0.36166147, 0.35676087],\n",
              "       [0.29179341, 0.7853424 , 0.40773895, 0.85133853, 0.32719081,\n",
              "        0.99179082, 0.66558186, 0.18646822, 0.33540142, 0.60940768],\n",
              "       [0.88016276, 0.57890603, 0.43353788, 0.20287587, 0.37456689,\n",
              "        0.61311237, 0.72232513, 0.95470872, 0.33904967, 0.3979706 ],\n",
              "       [0.41764484, 0.30547192, 0.59557404, 0.66050779, 0.75300822,\n",
              "        0.93663334, 0.92931997, 0.79595182, 0.90629977, 0.57069296],\n",
              "       [0.91996538, 0.13265384, 0.59577624, 0.57842111, 0.14234986,\n",
              "        0.02816427, 0.47738961, 0.55795271, 0.41544104, 0.92362774],\n",
              "       [0.30881418, 0.62140573, 0.01657094, 0.16502876, 0.25159407,\n",
              "        0.91775503, 0.8041126 , 0.7326616 , 0.62902468, 0.64400341],\n",
              "       [0.73554264, 0.77495761, 0.26291432, 0.65300717, 0.51505689,\n",
              "        0.34777758, 0.37147732, 0.0570635 , 0.31658236, 0.90999965],\n",
              "       [0.61355712, 0.2249419 , 0.13590591, 0.9922272 , 0.77885199,\n",
              "        0.45612512, 0.97400139, 0.93355991, 0.44571168, 0.77642973],\n",
              "       [0.25955209, 0.70278064, 0.62169581, 0.00509707, 0.51908979,\n",
              "        0.66370894, 0.12064022, 0.99042729, 0.01553531, 0.16826836],\n",
              "       [0.82209096, 0.46061179, 0.74575827, 0.74177168, 0.65900533,\n",
              "        0.19205823, 0.89268412, 0.11211545, 0.61708209, 0.77091664],\n",
              "       [0.94702241, 0.33016732, 0.97722996, 0.67241516, 0.1786706 ,\n",
              "        0.42640114, 0.58119356, 0.76327592, 0.08889547, 0.67294409],\n",
              "       [0.34416008, 0.31669426, 0.8693293 , 0.76537749, 0.08190691,\n",
              "        0.96964409, 0.20618628, 0.87625082, 0.16725612, 0.0790129 ],\n",
              "       [0.88613864, 0.34797147, 0.79329876, 0.04479037, 0.1712965 ,\n",
              "        0.70527662, 0.8337599 , 0.97937162, 0.36290607, 0.32477054],\n",
              "       [0.50584475, 0.18208346, 0.49674725, 0.24195936, 0.17732292,\n",
              "        0.28738825, 0.00678037, 0.38388644, 0.84360154, 0.87192687],\n",
              "       [0.80866327, 0.85264937, 0.76675883, 0.03416602, 0.61513942,\n",
              "        0.31519136, 0.71375798, 0.32775553, 0.93798299, 0.89709825],\n",
              "       [0.38927136, 0.94426184, 0.81055232, 0.66832849, 0.28569697,\n",
              "        0.16399468, 0.61300317, 0.86997093, 0.71227164, 0.37710865],\n",
              "       [0.47867672, 0.84472908, 0.01346854, 0.55386337, 0.28102667,\n",
              "        0.04063375, 0.96537314, 0.2694041 , 0.29804675, 0.71052613],\n",
              "       [0.45362922, 0.16095683, 0.2516697 , 0.13147484, 0.85563819,\n",
              "        0.46664517, 0.45120964, 0.60625464, 0.11659409, 0.849879  ],\n",
              "       [0.45022384, 0.63719154, 0.46990303, 0.51016996, 0.05187982,\n",
              "        0.96729343, 0.74118277, 0.28706405, 0.0703649 , 0.04167291],\n",
              "       [0.75408098, 0.59539101, 0.77913489, 0.71898495, 0.20388795,\n",
              "        0.55313199, 0.2969413 , 0.84953825, 0.9561902 , 0.40609702],\n",
              "       [0.14859138, 0.2737883 , 0.03900961, 0.11615453, 0.79424821,\n",
              "        0.64104177, 0.90382754, 0.62820035, 0.64759709, 0.99123336]])"
            ]
          },
          "metadata": {},
          "execution_count": 2
        }
      ]
    },
    {
      "cell_type": "code",
      "source": [
        "y"
      ],
      "metadata": {
        "colab": {
          "base_uri": "https://localhost:8080/"
        },
        "id": "or1y0m8x_2Qg",
        "outputId": "9e67b76b-89d6-4bbf-89ef-0803a86a19c8"
      },
      "execution_count": null,
      "outputs": [
        {
          "output_type": "execute_result",
          "data": {
            "text/plain": [
              "array([0.28208637, 0.5338351 , 0.68161154, 0.64623717, 0.10313733,\n",
              "       0.52899189, 0.74655472, 0.99276876, 0.49480674, 0.82511545])"
            ]
          },
          "metadata": {},
          "execution_count": 3
        }
      ]
    },
    {
      "cell_type": "code",
      "source": [
        "y = np.expand_dims(y, axis=0)"
      ],
      "metadata": {
        "id": "0kGblrJu_3VW"
      },
      "execution_count": null,
      "outputs": []
    },
    {
      "cell_type": "code",
      "source": [
        "y"
      ],
      "metadata": {
        "colab": {
          "base_uri": "https://localhost:8080/"
        },
        "id": "PpSzoW8L_6Yi",
        "outputId": "09910d9c-b24a-496d-905f-52338982457d"
      },
      "execution_count": null,
      "outputs": [
        {
          "output_type": "execute_result",
          "data": {
            "text/plain": [
              "array([[0.28208637, 0.5338351 , 0.68161154, 0.64623717, 0.10313733,\n",
              "        0.52899189, 0.74655472, 0.99276876, 0.49480674, 0.82511545]])"
            ]
          },
          "metadata": {},
          "execution_count": 5
        }
      ]
    },
    {
      "cell_type": "code",
      "source": [
        "Y = np.concatenate([y] * 32, axis=0)\n"
      ],
      "metadata": {
        "id": "xO3P9Tx-_7Zf"
      },
      "execution_count": null,
      "outputs": []
    },
    {
      "cell_type": "code",
      "source": [
        "Y"
      ],
      "metadata": {
        "colab": {
          "base_uri": "https://localhost:8080/"
        },
        "id": "G4S1VRbWABSl",
        "outputId": "61a43041-a988-483c-bf8d-cb404e0f9490"
      },
      "execution_count": null,
      "outputs": [
        {
          "output_type": "execute_result",
          "data": {
            "text/plain": [
              "array([[0.28208637, 0.5338351 , 0.68161154, 0.64623717, 0.10313733,\n",
              "        0.52899189, 0.74655472, 0.99276876, 0.49480674, 0.82511545],\n",
              "       [0.28208637, 0.5338351 , 0.68161154, 0.64623717, 0.10313733,\n",
              "        0.52899189, 0.74655472, 0.99276876, 0.49480674, 0.82511545],\n",
              "       [0.28208637, 0.5338351 , 0.68161154, 0.64623717, 0.10313733,\n",
              "        0.52899189, 0.74655472, 0.99276876, 0.49480674, 0.82511545],\n",
              "       [0.28208637, 0.5338351 , 0.68161154, 0.64623717, 0.10313733,\n",
              "        0.52899189, 0.74655472, 0.99276876, 0.49480674, 0.82511545],\n",
              "       [0.28208637, 0.5338351 , 0.68161154, 0.64623717, 0.10313733,\n",
              "        0.52899189, 0.74655472, 0.99276876, 0.49480674, 0.82511545],\n",
              "       [0.28208637, 0.5338351 , 0.68161154, 0.64623717, 0.10313733,\n",
              "        0.52899189, 0.74655472, 0.99276876, 0.49480674, 0.82511545],\n",
              "       [0.28208637, 0.5338351 , 0.68161154, 0.64623717, 0.10313733,\n",
              "        0.52899189, 0.74655472, 0.99276876, 0.49480674, 0.82511545],\n",
              "       [0.28208637, 0.5338351 , 0.68161154, 0.64623717, 0.10313733,\n",
              "        0.52899189, 0.74655472, 0.99276876, 0.49480674, 0.82511545],\n",
              "       [0.28208637, 0.5338351 , 0.68161154, 0.64623717, 0.10313733,\n",
              "        0.52899189, 0.74655472, 0.99276876, 0.49480674, 0.82511545],\n",
              "       [0.28208637, 0.5338351 , 0.68161154, 0.64623717, 0.10313733,\n",
              "        0.52899189, 0.74655472, 0.99276876, 0.49480674, 0.82511545],\n",
              "       [0.28208637, 0.5338351 , 0.68161154, 0.64623717, 0.10313733,\n",
              "        0.52899189, 0.74655472, 0.99276876, 0.49480674, 0.82511545],\n",
              "       [0.28208637, 0.5338351 , 0.68161154, 0.64623717, 0.10313733,\n",
              "        0.52899189, 0.74655472, 0.99276876, 0.49480674, 0.82511545],\n",
              "       [0.28208637, 0.5338351 , 0.68161154, 0.64623717, 0.10313733,\n",
              "        0.52899189, 0.74655472, 0.99276876, 0.49480674, 0.82511545],\n",
              "       [0.28208637, 0.5338351 , 0.68161154, 0.64623717, 0.10313733,\n",
              "        0.52899189, 0.74655472, 0.99276876, 0.49480674, 0.82511545],\n",
              "       [0.28208637, 0.5338351 , 0.68161154, 0.64623717, 0.10313733,\n",
              "        0.52899189, 0.74655472, 0.99276876, 0.49480674, 0.82511545],\n",
              "       [0.28208637, 0.5338351 , 0.68161154, 0.64623717, 0.10313733,\n",
              "        0.52899189, 0.74655472, 0.99276876, 0.49480674, 0.82511545],\n",
              "       [0.28208637, 0.5338351 , 0.68161154, 0.64623717, 0.10313733,\n",
              "        0.52899189, 0.74655472, 0.99276876, 0.49480674, 0.82511545],\n",
              "       [0.28208637, 0.5338351 , 0.68161154, 0.64623717, 0.10313733,\n",
              "        0.52899189, 0.74655472, 0.99276876, 0.49480674, 0.82511545],\n",
              "       [0.28208637, 0.5338351 , 0.68161154, 0.64623717, 0.10313733,\n",
              "        0.52899189, 0.74655472, 0.99276876, 0.49480674, 0.82511545],\n",
              "       [0.28208637, 0.5338351 , 0.68161154, 0.64623717, 0.10313733,\n",
              "        0.52899189, 0.74655472, 0.99276876, 0.49480674, 0.82511545],\n",
              "       [0.28208637, 0.5338351 , 0.68161154, 0.64623717, 0.10313733,\n",
              "        0.52899189, 0.74655472, 0.99276876, 0.49480674, 0.82511545],\n",
              "       [0.28208637, 0.5338351 , 0.68161154, 0.64623717, 0.10313733,\n",
              "        0.52899189, 0.74655472, 0.99276876, 0.49480674, 0.82511545],\n",
              "       [0.28208637, 0.5338351 , 0.68161154, 0.64623717, 0.10313733,\n",
              "        0.52899189, 0.74655472, 0.99276876, 0.49480674, 0.82511545],\n",
              "       [0.28208637, 0.5338351 , 0.68161154, 0.64623717, 0.10313733,\n",
              "        0.52899189, 0.74655472, 0.99276876, 0.49480674, 0.82511545],\n",
              "       [0.28208637, 0.5338351 , 0.68161154, 0.64623717, 0.10313733,\n",
              "        0.52899189, 0.74655472, 0.99276876, 0.49480674, 0.82511545],\n",
              "       [0.28208637, 0.5338351 , 0.68161154, 0.64623717, 0.10313733,\n",
              "        0.52899189, 0.74655472, 0.99276876, 0.49480674, 0.82511545],\n",
              "       [0.28208637, 0.5338351 , 0.68161154, 0.64623717, 0.10313733,\n",
              "        0.52899189, 0.74655472, 0.99276876, 0.49480674, 0.82511545],\n",
              "       [0.28208637, 0.5338351 , 0.68161154, 0.64623717, 0.10313733,\n",
              "        0.52899189, 0.74655472, 0.99276876, 0.49480674, 0.82511545],\n",
              "       [0.28208637, 0.5338351 , 0.68161154, 0.64623717, 0.10313733,\n",
              "        0.52899189, 0.74655472, 0.99276876, 0.49480674, 0.82511545],\n",
              "       [0.28208637, 0.5338351 , 0.68161154, 0.64623717, 0.10313733,\n",
              "        0.52899189, 0.74655472, 0.99276876, 0.49480674, 0.82511545],\n",
              "       [0.28208637, 0.5338351 , 0.68161154, 0.64623717, 0.10313733,\n",
              "        0.52899189, 0.74655472, 0.99276876, 0.49480674, 0.82511545],\n",
              "       [0.28208637, 0.5338351 , 0.68161154, 0.64623717, 0.10313733,\n",
              "        0.52899189, 0.74655472, 0.99276876, 0.49480674, 0.82511545]])"
            ]
          },
          "metadata": {},
          "execution_count": 7
        }
      ]
    },
    {
      "cell_type": "code",
      "source": [
        "X.shape"
      ],
      "metadata": {
        "colab": {
          "base_uri": "https://localhost:8080/"
        },
        "id": "2sNsExdNAB3h",
        "outputId": "3450e316-4e50-466b-a51b-363b0af991bb"
      },
      "execution_count": null,
      "outputs": [
        {
          "output_type": "execute_result",
          "data": {
            "text/plain": [
              "(32, 10)"
            ]
          },
          "metadata": {},
          "execution_count": 8
        }
      ]
    },
    {
      "cell_type": "code",
      "source": [
        "Y.shape"
      ],
      "metadata": {
        "colab": {
          "base_uri": "https://localhost:8080/"
        },
        "id": "wzEWlWqbAHX5",
        "outputId": "d104b6f7-9bbd-4b22-99ea-760db1c45958"
      },
      "execution_count": null,
      "outputs": [
        {
          "output_type": "execute_result",
          "data": {
            "text/plain": [
              "(32, 10)"
            ]
          },
          "metadata": {},
          "execution_count": 9
        }
      ]
    },
    {
      "cell_type": "code",
      "source": [
        "def naive_add_matrix_and_vector(x, y):\n",
        "    assert len(x.shape) == 2\n",
        "    assert len(y.shape) == 1\n",
        "    assert x.shape[1] == y.shape[0]\n",
        "    x = x.copy()\n",
        "    for i in range(x.shape[0]):\n",
        "        for j in range(x.shape[1]):\n",
        "            x[i, j] += y[j]\n",
        "    return x"
      ],
      "metadata": {
        "id": "u0zxgJn2AIZq"
      },
      "execution_count": null,
      "outputs": []
    },
    {
      "cell_type": "code",
      "source": [
        "import numpy as np\n",
        "x = np.random.random((64, 3, 32, 10))\n",
        "y = np.random.random((32, 10))\n",
        "z = np.maximum(x, y)\n"
      ],
      "metadata": {
        "id": "5m6YkHCeAVSe"
      },
      "execution_count": null,
      "outputs": []
    },
    {
      "cell_type": "code",
      "source": [
        "z"
      ],
      "metadata": {
        "colab": {
          "base_uri": "https://localhost:8080/"
        },
        "id": "d7ep_MU3AZ5F",
        "outputId": "bbf2b773-cca6-40cd-cbc8-0d8e21210077"
      },
      "execution_count": null,
      "outputs": [
        {
          "output_type": "execute_result",
          "data": {
            "text/plain": [
              "array([[[[0.33916198, 0.75905178, 0.17187297, ..., 0.3120362 ,\n",
              "          0.8233519 , 0.80433483],\n",
              "         [0.56086617, 0.87395529, 0.91354427, ..., 0.57499676,\n",
              "          0.88248433, 0.5828777 ],\n",
              "         [0.66131181, 0.6545179 , 0.75643313, ..., 0.89059446,\n",
              "          0.99267736, 0.90875571],\n",
              "         ...,\n",
              "         [0.82382064, 0.98678337, 0.62286425, ..., 0.54791205,\n",
              "          0.98959415, 0.53086885],\n",
              "         [0.92167493, 0.9064927 , 0.78299097, ..., 0.68070891,\n",
              "          0.73034339, 0.85862876],\n",
              "         [0.87498475, 0.83972528, 0.53746232, ..., 0.90025888,\n",
              "          0.94167737, 0.74288265]],\n",
              "\n",
              "        [[0.6960514 , 0.9624447 , 0.86282028, ..., 0.72558056,\n",
              "          0.8233519 , 0.33678798],\n",
              "         [0.41038653, 0.99650179, 0.89005482, ..., 0.74342452,\n",
              "          0.83613693, 0.5828777 ],\n",
              "         [0.5790634 , 0.65039906, 0.90874383, ..., 0.99824005,\n",
              "          0.99267736, 0.90875571],\n",
              "         ...,\n",
              "         [0.96955506, 0.21148117, 0.61578998, ..., 0.8118887 ,\n",
              "          0.70912398, 0.53086885],\n",
              "         [0.84612075, 0.9064927 , 0.78299097, ..., 0.68070891,\n",
              "          0.51306408, 0.85862876],\n",
              "         [0.43995449, 0.71942271, 0.63564612, ..., 0.90025888,\n",
              "          0.62345354, 0.70625605]],\n",
              "\n",
              "        [[0.45647561, 0.28094466, 0.39633463, ..., 0.3120362 ,\n",
              "          0.8233519 , 0.77877255],\n",
              "         [0.95928551, 0.87395529, 0.89005482, ..., 0.56571397,\n",
              "          0.32274364, 0.62848011],\n",
              "         [0.7788301 , 0.65039906, 0.75643313, ..., 0.49768034,\n",
              "          0.99267736, 0.90875571],\n",
              "         ...,\n",
              "         [0.34326105, 0.40044291, 0.77608762, ..., 0.5823771 ,\n",
              "          0.70912398, 0.53086885],\n",
              "         [0.77430904, 0.93026884, 0.78299097, ..., 0.98122995,\n",
              "          0.29752376, 0.85862876],\n",
              "         [0.60410342, 0.71942271, 0.68732136, ..., 0.90025888,\n",
              "          0.62345354, 0.28974842]]],\n",
              "\n",
              "\n",
              "       [[[0.29357625, 0.28094466, 0.26936369, ..., 0.3120362 ,\n",
              "          0.8233519 , 0.61625088],\n",
              "         [0.75220891, 0.96080454, 0.89005482, ..., 0.97805058,\n",
              "          0.75218922, 0.58505809],\n",
              "         [0.69023414, 0.92515558, 0.75643313, ..., 0.77345329,\n",
              "          0.99267736, 0.90875571],\n",
              "         ...,\n",
              "         [0.48890919, 0.3902047 , 0.09446665, ..., 0.54791205,\n",
              "          0.70912398, 0.53086885],\n",
              "         [0.77430904, 0.9064927 , 0.78299097, ..., 0.68070891,\n",
              "          0.35861529, 0.85862876],\n",
              "         [0.43995449, 0.93348654, 0.46083809, ..., 0.90025888,\n",
              "          0.62345354, 0.62686989]],\n",
              "\n",
              "        [[0.29357625, 0.8916928 , 0.14742829, ..., 0.49416669,\n",
              "          0.8233519 , 0.99728764],\n",
              "         [0.80433698, 0.87395529, 0.89005482, ..., 0.80091531,\n",
              "          0.1978243 , 0.5828777 ],\n",
              "         [0.83573947, 0.65039906, 0.75643313, ..., 0.43337856,\n",
              "          0.99267736, 0.90875571],\n",
              "         ...,\n",
              "         [0.34326105, 0.41254428, 0.61434771, ..., 0.60469157,\n",
              "          0.70912398, 0.53086885],\n",
              "         [0.77430904, 0.9064927 , 0.78299097, ..., 0.8409038 ,\n",
              "          0.97386019, 0.85862876],\n",
              "         [0.76857726, 0.71942271, 0.46083809, ..., 0.90025888,\n",
              "          0.6500482 , 0.20618667]],\n",
              "\n",
              "        [[0.98756503, 0.94242926, 0.40192106, ..., 0.5255862 ,\n",
              "          0.8233519 , 0.34062708],\n",
              "         [0.41038653, 0.99228939, 0.89005482, ..., 0.56571397,\n",
              "          0.1978243 , 0.83613583],\n",
              "         [0.88402904, 0.65039906, 0.75643313, ..., 0.54599927,\n",
              "          0.99267736, 0.96097025],\n",
              "         ...,\n",
              "         [0.44086032, 0.28606908, 0.49903046, ..., 0.54791205,\n",
              "          0.70912398, 0.65263431],\n",
              "         [0.77430904, 0.9064927 , 0.78299097, ..., 0.68070891,\n",
              "          0.43400342, 0.85862876],\n",
              "         [0.43995449, 0.89808431, 0.94723551, ..., 0.90025888,\n",
              "          0.62345354, 0.96193974]]],\n",
              "\n",
              "\n",
              "       [[[0.52554765, 0.91478745, 0.51113537, ..., 0.91909792,\n",
              "          0.8233519 , 0.2736253 ],\n",
              "         [0.41038653, 0.87395529, 0.89005482, ..., 0.65892266,\n",
              "          0.83849837, 0.61777839],\n",
              "         [0.5790634 , 0.84178141, 0.85259017, ..., 0.24317445,\n",
              "          0.99267736, 0.90875571],\n",
              "         ...,\n",
              "         [0.82819661, 0.22527515, 0.39905799, ..., 0.54791205,\n",
              "          0.70912398, 0.80440917],\n",
              "         [0.77430904, 0.9064927 , 0.78299097, ..., 0.68070891,\n",
              "          0.07701748, 0.85862876],\n",
              "         [0.61876111, 0.99288135, 0.46083809, ..., 0.90025888,\n",
              "          0.62345354, 0.56806032]],\n",
              "\n",
              "        [[0.29357625, 0.36016645, 0.23938345, ..., 0.47362797,\n",
              "          0.8233519 , 0.48446567],\n",
              "         [0.41038653, 0.87395529, 0.89005482, ..., 0.56571397,\n",
              "          0.36868586, 0.64932765],\n",
              "         [0.5790634 , 0.65039906, 0.75643313, ..., 0.97379683,\n",
              "          0.99267736, 0.90875571],\n",
              "         ...,\n",
              "         [0.68109703, 0.72457746, 0.2406074 , ..., 0.54791205,\n",
              "          0.70912398, 0.53086885],\n",
              "         [0.77430904, 0.9064927 , 0.87676717, ..., 0.68070891,\n",
              "          0.28162559, 0.85862876],\n",
              "         [0.43995449, 0.71942271, 0.93710329, ..., 0.90025888,\n",
              "          0.62345354, 0.79890068]],\n",
              "\n",
              "        [[0.29357625, 0.62416158, 0.6746004 , ..., 0.3120362 ,\n",
              "          0.8233519 , 0.53833086],\n",
              "         [0.41038653, 0.87395529, 0.89005482, ..., 0.81225782,\n",
              "          0.75200072, 0.72326471],\n",
              "         [0.5790634 , 0.88122399, 0.92254644, ..., 0.31322535,\n",
              "          0.99267736, 0.90875571],\n",
              "         ...,\n",
              "         [0.50234383, 0.91112414, 0.15222285, ..., 0.60620451,\n",
              "          0.77809082, 0.67646591],\n",
              "         [0.77430904, 0.9064927 , 0.78299097, ..., 0.68070891,\n",
              "          0.75866261, 0.85862876],\n",
              "         [0.43995449, 0.82374597, 0.46083809, ..., 0.90025888,\n",
              "          0.72315089, 0.38562651]]],\n",
              "\n",
              "\n",
              "       ...,\n",
              "\n",
              "\n",
              "       [[[0.37336062, 0.46665532, 0.14742829, ..., 0.69605603,\n",
              "          0.8233519 , 0.50335662],\n",
              "         [0.93060037, 0.87395529, 0.97387299, ..., 0.56571397,\n",
              "          0.81331071, 0.72279895],\n",
              "         [0.5790634 , 0.79511036, 0.75643313, ..., 0.73283439,\n",
              "          0.99267736, 0.90875571],\n",
              "         ...,\n",
              "         [0.71430875, 0.41293322, 0.88004126, ..., 0.54791205,\n",
              "          0.89173016, 0.53086885],\n",
              "         [0.77430904, 0.9064927 , 0.78299097, ..., 0.68070891,\n",
              "          0.58173073, 0.85862876],\n",
              "         [0.95289219, 0.71942271, 0.46083809, ..., 0.90025888,\n",
              "          0.62345354, 0.41437891]],\n",
              "\n",
              "        [[0.55956374, 0.68761428, 0.9795997 , ..., 0.59452317,\n",
              "          0.8233519 , 0.76757668],\n",
              "         [0.41837267, 0.87395529, 0.89005482, ..., 0.56571397,\n",
              "          0.4410636 , 0.72259225],\n",
              "         [0.97134829, 0.81354533, 0.75643313, ..., 0.49410641,\n",
              "          0.99267736, 0.90875571],\n",
              "         ...,\n",
              "         [0.67258627, 0.21148117, 0.97607031, ..., 0.54791205,\n",
              "          0.70912398, 0.78387794],\n",
              "         [0.77430904, 0.9064927 , 0.93995435, ..., 0.68070891,\n",
              "          0.45719555, 0.87488844],\n",
              "         [0.56625846, 0.71942271, 0.59905374, ..., 0.90025888,\n",
              "          0.62345354, 0.20854563]],\n",
              "\n",
              "        [[0.29357625, 0.41841517, 0.39206846, ..., 0.35618438,\n",
              "          0.8233519 , 0.93812969],\n",
              "         [0.41038653, 0.87395529, 0.89005482, ..., 0.69939005,\n",
              "          0.48084318, 0.82001994],\n",
              "         [0.5790634 , 0.65039906, 0.75643313, ..., 0.2485203 ,\n",
              "          0.99267736, 0.90875571],\n",
              "         ...,\n",
              "         [0.80530871, 0.95618231, 0.83374913, ..., 0.65017815,\n",
              "          0.70912398, 0.53086885],\n",
              "         [0.77430904, 0.9064927 , 0.89863838, ..., 0.68070891,\n",
              "          0.15729133, 0.85862876],\n",
              "         [0.43995449, 0.71942271, 0.46083809, ..., 0.90025888,\n",
              "          0.62345354, 0.2988742 ]]],\n",
              "\n",
              "\n",
              "       [[[0.48722833, 0.37324037, 0.29604148, ..., 0.3120362 ,\n",
              "          0.8233519 , 0.8312449 ],\n",
              "         [0.75806071, 0.87395529, 0.89005482, ..., 0.88442989,\n",
              "          0.27989512, 0.5828777 ],\n",
              "         [0.5790634 , 0.81122315, 0.93460671, ..., 0.88831283,\n",
              "          0.99267736, 0.94611665],\n",
              "         ...,\n",
              "         [0.34326105, 0.44476799, 0.63711489, ..., 0.54791205,\n",
              "          0.70912398, 0.6579137 ],\n",
              "         [0.77430904, 0.9064927 , 0.91072666, ..., 0.87570963,\n",
              "          0.56908536, 0.85862876],\n",
              "         [0.90848798, 0.80831419, 0.91545546, ..., 0.90025888,\n",
              "          0.62345354, 0.35720452]],\n",
              "\n",
              "        [[0.90772013, 0.40453199, 0.51937515, ..., 0.75052424,\n",
              "          0.8233519 , 0.59452012],\n",
              "         [0.41038653, 0.87395529, 0.96694503, ..., 0.56571397,\n",
              "          0.28130898, 0.60105156],\n",
              "         [0.5790634 , 0.77753406, 0.75643313, ..., 0.40247965,\n",
              "          0.99267736, 0.90875571],\n",
              "         ...,\n",
              "         [0.34326105, 0.22314054, 0.44608149, ..., 0.54791205,\n",
              "          0.70912398, 0.53086885],\n",
              "         [0.77430904, 0.9064927 , 0.87741612, ..., 0.68070891,\n",
              "          0.03713224, 0.85862876],\n",
              "         [0.68472438, 0.71942271, 0.46083809, ..., 0.90025888,\n",
              "          0.62345354, 0.15796773]],\n",
              "\n",
              "        [[0.3187106 , 0.28094466, 0.76646613, ..., 0.76213625,\n",
              "          0.8233519 , 0.70371914],\n",
              "         [0.49186649, 0.87395529, 0.89005482, ..., 0.56571397,\n",
              "          0.68994082, 0.94314048],\n",
              "         [0.5790634 , 0.65039906, 0.99218668, ..., 0.40736352,\n",
              "          0.99267736, 0.90875571],\n",
              "         ...,\n",
              "         [0.34326105, 0.9339701 , 0.67960877, ..., 0.54791205,\n",
              "          0.70912398, 0.64321984],\n",
              "         [0.77430904, 0.9064927 , 0.78299097, ..., 0.68070891,\n",
              "          0.41587342, 0.85862876],\n",
              "         [0.43995449, 0.73213293, 0.46083809, ..., 0.90025888,\n",
              "          0.62345354, 0.37061239]]],\n",
              "\n",
              "\n",
              "       [[[0.29357625, 0.91516615, 0.56729671, ..., 0.44945644,\n",
              "          0.8233519 , 0.41810547],\n",
              "         [0.41038653, 0.87395529, 0.89005482, ..., 0.56571397,\n",
              "          0.36594014, 0.5828777 ],\n",
              "         [0.5790634 , 0.65039906, 0.75643313, ..., 0.55654411,\n",
              "          0.99267736, 0.90875571],\n",
              "         ...,\n",
              "         [0.38227446, 0.89421821, 0.59223356, ..., 0.54791205,\n",
              "          0.97826673, 0.53086885],\n",
              "         [0.88682976, 0.9064927 , 0.78299097, ..., 0.82813406,\n",
              "          0.3823501 , 0.85862876],\n",
              "         [0.43995449, 0.86529852, 0.66694118, ..., 0.90025888,\n",
              "          0.62345354, 0.13907615]],\n",
              "\n",
              "        [[0.93945306, 0.28094466, 0.55694839, ..., 0.5191369 ,\n",
              "          0.99071688, 0.26225476],\n",
              "         [0.92662963, 0.87395529, 0.89005482, ..., 0.98897057,\n",
              "          0.80752166, 0.5828777 ],\n",
              "         [0.5790634 , 0.65039906, 0.75643313, ..., 0.94472543,\n",
              "          0.99267736, 0.90875571],\n",
              "         ...,\n",
              "         [0.46033186, 0.52566325, 0.01187127, ..., 0.54791205,\n",
              "          0.73893377, 0.53086885],\n",
              "         [0.77430904, 0.9064927 , 0.78299097, ..., 0.83968054,\n",
              "          0.03713224, 0.85862876],\n",
              "         [0.8236238 , 0.79474129, 0.46083809, ..., 0.90025888,\n",
              "          0.62345354, 0.38153407]],\n",
              "\n",
              "        [[0.92155206, 0.4543279 , 0.890622  , ..., 0.70725053,\n",
              "          0.8233519 , 0.93263362],\n",
              "         [0.41038653, 0.87395529, 0.89005482, ..., 0.73546818,\n",
              "          0.42314206, 0.5828777 ],\n",
              "         [0.72207487, 0.65039906, 0.75643313, ..., 0.65987905,\n",
              "          0.99267736, 0.90875571],\n",
              "         ...,\n",
              "         [0.57985087, 0.21148117, 0.07783618, ..., 0.54791205,\n",
              "          0.70912398, 0.53086885],\n",
              "         [0.77430904, 0.9064927 , 0.78299097, ..., 0.68070891,\n",
              "          0.18895797, 0.85862876],\n",
              "         [0.673124  , 0.77681359, 0.46083809, ..., 0.90025888,\n",
              "          0.62345354, 0.6512655 ]]]])"
            ]
          },
          "metadata": {},
          "execution_count": 12
        }
      ]
    },
    {
      "cell_type": "code",
      "source": [
        "x = np.random.random((32,))\n",
        "y = np.random.random((32,))\n",
        "z = np.dot(x, y)"
      ],
      "metadata": {
        "id": "4qXP7Jb1Aaf-"
      },
      "execution_count": null,
      "outputs": []
    },
    {
      "cell_type": "code",
      "source": [
        "z"
      ],
      "metadata": {
        "colab": {
          "base_uri": "https://localhost:8080/"
        },
        "id": "qUciZQe-AikQ",
        "outputId": "f1a1dbed-c998-4038-92e5-6b7d357dc1aa"
      },
      "execution_count": null,
      "outputs": [
        {
          "output_type": "execute_result",
          "data": {
            "text/plain": [
              "8.064558326579423"
            ]
          },
          "metadata": {},
          "execution_count": 14
        }
      ]
    },
    {
      "cell_type": "code",
      "source": [
        "x"
      ],
      "metadata": {
        "colab": {
          "base_uri": "https://localhost:8080/"
        },
        "id": "zRhJO-pFAjvv",
        "outputId": "e85ed960-f027-42d5-8993-65b6a1d5c35a"
      },
      "execution_count": null,
      "outputs": [
        {
          "output_type": "execute_result",
          "data": {
            "text/plain": [
              "array([0.9029519 , 0.36115506, 0.74312172, 0.4891766 , 0.05420351,\n",
              "       0.35058462, 0.25380385, 0.23814534, 0.67247171, 0.60413879,\n",
              "       0.36966337, 0.48118567, 0.7563966 , 0.67518847, 0.10149958,\n",
              "       0.33716239, 0.94279917, 0.061055  , 0.54004608, 0.89508234,\n",
              "       0.92830506, 0.86290612, 0.33023254, 0.51567976, 0.68605156,\n",
              "       0.51922884, 0.71426632, 0.55261583, 0.17171158, 0.38774356,\n",
              "       0.16432646, 0.96782902])"
            ]
          },
          "metadata": {},
          "execution_count": 15
        }
      ]
    },
    {
      "cell_type": "code",
      "source": [
        "y"
      ],
      "metadata": {
        "colab": {
          "base_uri": "https://localhost:8080/"
        },
        "id": "cY6n1GObAnM6",
        "outputId": "0267a74f-7b6b-4a47-faa0-5039554885ea"
      },
      "execution_count": null,
      "outputs": [
        {
          "output_type": "execute_result",
          "data": {
            "text/plain": [
              "array([0.35431317, 0.83527195, 0.47337502, 0.56716474, 0.7381241 ,\n",
              "       0.32724041, 0.33042782, 0.29925417, 0.19853637, 0.1930294 ,\n",
              "       0.62726788, 0.99529386, 0.64102067, 0.17296417, 0.97735284,\n",
              "       0.06830605, 0.25906779, 0.01877405, 0.42288463, 0.59390887,\n",
              "       0.6391984 , 0.06393325, 0.55503942, 0.0258451 , 0.87028319,\n",
              "       0.41668134, 0.92392575, 0.77434012, 0.91104876, 0.83857443,\n",
              "       0.3001153 , 0.55421917])"
            ]
          },
          "metadata": {},
          "execution_count": 16
        }
      ]
    },
    {
      "cell_type": "code",
      "source": [
        "def naive_vector_dot(x, y):\n",
        "    assert len(x.shape) == 1\n",
        "    assert len(y.shape) == 1\n",
        "    assert x.shape[0] == y.shape[0]\n",
        "    z = 0.\n",
        "    for i in range(x.shape[0]):\n",
        "        z += x[i] * y[i]\n",
        "    return z\n"
      ],
      "metadata": {
        "id": "-zlN1feHAnz5"
      },
      "execution_count": null,
      "outputs": []
    },
    {
      "cell_type": "code",
      "source": [
        "def naive_matrix_vector_dot(x, y):\n",
        "    assert len(x.shape) == 2\n",
        "    assert len(y.shape) == 1\n",
        "    assert x.shape[1] == y.shape[0]\n",
        "    z = np.zeros(x.shape[0])\n",
        "    for i in range(x.shape[0]):\n",
        "        for j in range(x.shape[1]):\n",
        "            z[i] += x[i, j] * y[j]\n",
        "    return z"
      ],
      "metadata": {
        "id": "Z5YwdCiKAwXr"
      },
      "execution_count": null,
      "outputs": []
    },
    {
      "cell_type": "code",
      "source": [
        "def naive_matrix_vector_dot(x, y):\n",
        "    z = np.zeros(x.shape[0])\n",
        "    for i in range(x.shape[0]):\n",
        "        z[i] = naive_vector_dot(x[i, :], y)\n",
        "    return z\n"
      ],
      "metadata": {
        "id": "t7B_ADrYBAO_"
      },
      "execution_count": null,
      "outputs": []
    },
    {
      "cell_type": "code",
      "source": [
        "def naive_matrix_dot(x, y):\n",
        "    assert len(x.shape) == 2\n",
        "    assert len(y.shape) == 2\n",
        "    assert x.shape[1] == y.shape[0]\n",
        "    z = np.zeros((x.shape[0], y.shape[1]))\n",
        "    for i in range(x.shape[0]):\n",
        "        for j in range(y.shape[1]):\n",
        "            row_x = x[i, :]\n",
        "            column_y = y[:, j]\n",
        "            z[i, j] = naive_vector_dot(row_x, column_y)\n",
        "    return z"
      ],
      "metadata": {
        "id": "4qkP6NN_BH_7"
      },
      "execution_count": null,
      "outputs": []
    },
    {
      "cell_type": "code",
      "source": [
        "x = np.array([[0., 1.],\n",
        "             [2., 3.],\n",
        "             [4., 5.]])\n",
        "x.shape"
      ],
      "metadata": {
        "colab": {
          "base_uri": "https://localhost:8080/"
        },
        "id": "a-Rrk3NpBNIN",
        "outputId": "8edacfa9-8f3c-40db-ba46-138e730a3639"
      },
      "execution_count": null,
      "outputs": [
        {
          "output_type": "execute_result",
          "data": {
            "text/plain": [
              "(3, 2)"
            ]
          },
          "metadata": {},
          "execution_count": 21
        }
      ]
    },
    {
      "cell_type": "code",
      "source": [
        "x.ndim"
      ],
      "metadata": {
        "colab": {
          "base_uri": "https://localhost:8080/"
        },
        "id": "qNIE6dp_BVsl",
        "outputId": "095902b7-3f87-4642-d430-1388ded9010a"
      },
      "execution_count": null,
      "outputs": [
        {
          "output_type": "execute_result",
          "data": {
            "text/plain": [
              "2"
            ]
          },
          "metadata": {},
          "execution_count": 22
        }
      ]
    },
    {
      "cell_type": "code",
      "source": [
        "x = x.reshape((6, 1))\n",
        "x"
      ],
      "metadata": {
        "colab": {
          "base_uri": "https://localhost:8080/"
        },
        "id": "WkqIhXfkBZ2H",
        "outputId": "44b31a57-bcd9-481e-f2ca-4ae933c022f4"
      },
      "execution_count": null,
      "outputs": [
        {
          "output_type": "execute_result",
          "data": {
            "text/plain": [
              "array([[0.],\n",
              "       [1.],\n",
              "       [2.],\n",
              "       [3.],\n",
              "       [4.],\n",
              "       [5.]])"
            ]
          },
          "metadata": {},
          "execution_count": 23
        }
      ]
    },
    {
      "cell_type": "code",
      "source": [
        "x = np.zeros((300, 20))\n",
        "x = np.transpose(x)\n",
        "x.shape"
      ],
      "metadata": {
        "colab": {
          "base_uri": "https://localhost:8080/"
        },
        "id": "aLLVMZwtBeS0",
        "outputId": "ad42b2fc-ed6a-4c24-f1a3-2e9a97dc038f"
      },
      "execution_count": null,
      "outputs": [
        {
          "output_type": "execute_result",
          "data": {
            "text/plain": [
              "(20, 300)"
            ]
          },
          "metadata": {},
          "execution_count": 24
        }
      ]
    },
    {
      "cell_type": "code",
      "source": [
        "import tensorflow as tf\n",
        "x = tf.Variable(0.)\n",
        "with tf.GradientTape() as tape:\n",
        "    y = 2 * x + 3\n",
        "grad_of_y_wrt_x = tape.gradient(y, x)\n"
      ],
      "metadata": {
        "id": "F-FNk2ybBito"
      },
      "execution_count": null,
      "outputs": []
    },
    {
      "cell_type": "code",
      "source": [
        "grad_of_y_wrt_x"
      ],
      "metadata": {
        "colab": {
          "base_uri": "https://localhost:8080/"
        },
        "id": "oUdaYFzoBztt",
        "outputId": "adb4e3e3-bebe-4ab4-e2c5-99687be365c8"
      },
      "execution_count": null,
      "outputs": [
        {
          "output_type": "execute_result",
          "data": {
            "text/plain": [
              "<tf.Tensor: shape=(), dtype=float32, numpy=2.0>"
            ]
          },
          "metadata": {},
          "execution_count": 26
        }
      ]
    },
    {
      "cell_type": "code",
      "source": [
        "x = tf.Variable(tf.random.uniform((2, 2)))\n",
        "with tf.GradientTape() as tape:\n",
        "    y = 2 * x + 3\n",
        "grad_of_y_wrt_x = tape.gradient(y, x)\n"
      ],
      "metadata": {
        "id": "Mta_ZOYBB3kU"
      },
      "execution_count": null,
      "outputs": []
    },
    {
      "cell_type": "code",
      "source": [
        "grad_of_y_wrt_x"
      ],
      "metadata": {
        "colab": {
          "base_uri": "https://localhost:8080/"
        },
        "id": "tl0U-l63CSq6",
        "outputId": "b089973c-39a1-45ab-a309-5ede89f5ed77"
      },
      "execution_count": null,
      "outputs": [
        {
          "output_type": "execute_result",
          "data": {
            "text/plain": [
              "<tf.Tensor: shape=(2, 2), dtype=float32, numpy=\n",
              "array([[2., 2.],\n",
              "       [2., 2.]], dtype=float32)>"
            ]
          },
          "metadata": {},
          "execution_count": 30
        }
      ]
    },
    {
      "cell_type": "code",
      "source": [
        "tf.random.uniform((2,2))"
      ],
      "metadata": {
        "colab": {
          "base_uri": "https://localhost:8080/"
        },
        "id": "0myLZhl3CUPH",
        "outputId": "f753251a-aa86-4696-c75e-4e588c714c0f"
      },
      "execution_count": null,
      "outputs": [
        {
          "output_type": "execute_result",
          "data": {
            "text/plain": [
              "<tf.Tensor: shape=(2, 2), dtype=float32, numpy=\n",
              "array([[0.56191504, 0.21401155],\n",
              "       [0.03927433, 0.8918941 ]], dtype=float32)>"
            ]
          },
          "metadata": {},
          "execution_count": 31
        }
      ]
    },
    {
      "cell_type": "code",
      "source": [
        "W = tf.Variable(tf.random.uniform((2, 2)))\n",
        "b = tf.Variable(tf.zeros((2,)))\n",
        "x = tf.random.uniform((2, 2))\n",
        "with tf.GradientTape() as tape:\n",
        "    y = tf.matmul(x, W) + b\n",
        "grad_of_y_wrt_W_and_b = tape.gradient(y, [W, b])"
      ],
      "metadata": {
        "id": "96qH_IEICbCh"
      },
      "execution_count": null,
      "outputs": []
    },
    {
      "cell_type": "code",
      "source": [
        "W"
      ],
      "metadata": {
        "colab": {
          "base_uri": "https://localhost:8080/"
        },
        "id": "eYgCXXeoCoBx",
        "outputId": "9aef0243-3558-4506-8641-889285791de2"
      },
      "execution_count": null,
      "outputs": [
        {
          "output_type": "execute_result",
          "data": {
            "text/plain": [
              "<tf.Variable 'Variable:0' shape=(2, 2) dtype=float32, numpy=\n",
              "array([[0.29017484, 0.43202102],\n",
              "       [0.87761784, 0.9724692 ]], dtype=float32)>"
            ]
          },
          "metadata": {},
          "execution_count": 33
        }
      ]
    },
    {
      "cell_type": "code",
      "source": [
        "b"
      ],
      "metadata": {
        "colab": {
          "base_uri": "https://localhost:8080/"
        },
        "id": "AlKfojGjCrsm",
        "outputId": "45a39d02-09f6-4cd3-8b15-0d21025db332"
      },
      "execution_count": null,
      "outputs": [
        {
          "output_type": "execute_result",
          "data": {
            "text/plain": [
              "<tf.Variable 'Variable:0' shape=(2,) dtype=float32, numpy=array([0., 0.], dtype=float32)>"
            ]
          },
          "metadata": {},
          "execution_count": 34
        }
      ]
    },
    {
      "cell_type": "code",
      "source": [
        "x"
      ],
      "metadata": {
        "colab": {
          "base_uri": "https://localhost:8080/"
        },
        "id": "YAimlbEdCsRt",
        "outputId": "c9306d71-5348-4dba-9ec5-455a10243917"
      },
      "execution_count": null,
      "outputs": [
        {
          "output_type": "execute_result",
          "data": {
            "text/plain": [
              "<tf.Tensor: shape=(2, 2), dtype=float32, numpy=\n",
              "array([[0.4622904 , 0.63497126],\n",
              "       [0.8698609 , 0.8703103 ]], dtype=float32)>"
            ]
          },
          "metadata": {},
          "execution_count": 35
        }
      ]
    },
    {
      "cell_type": "code",
      "source": [
        "grad_of_y_wrt_W_and_b"
      ],
      "metadata": {
        "colab": {
          "base_uri": "https://localhost:8080/"
        },
        "id": "yNijTDTnCvMx",
        "outputId": "091d63f2-bd13-4adc-8722-0f78fad1434c"
      },
      "execution_count": null,
      "outputs": [
        {
          "output_type": "execute_result",
          "data": {
            "text/plain": [
              "[<tf.Tensor: shape=(2, 2), dtype=float32, numpy=\n",
              " array([[1.3321513, 1.3321513],\n",
              "        [1.5052816, 1.5052816]], dtype=float32)>,\n",
              " <tf.Tensor: shape=(2,), dtype=float32, numpy=array([2., 2.], dtype=float32)>]"
            ]
          },
          "metadata": {},
          "execution_count": 36
        }
      ]
    },
    {
      "cell_type": "code",
      "source": [
        "from tensorflow.keras.datasets import mnist"
      ],
      "metadata": {
        "id": "faV-NsX1C4zB"
      },
      "execution_count": null,
      "outputs": []
    },
    {
      "cell_type": "code",
      "source": [
        "(train_images, train_labels), (test_images, test_labels) = mnist.load_data()"
      ],
      "metadata": {
        "colab": {
          "base_uri": "https://localhost:8080/"
        },
        "id": "pYuvPFtFDFDQ",
        "outputId": "0e45db17-079d-4eb0-aec9-e2f1330e2fb3"
      },
      "execution_count": null,
      "outputs": [
        {
          "output_type": "stream",
          "name": "stdout",
          "text": [
            "Downloading data from https://storage.googleapis.com/tensorflow/tf-keras-datasets/mnist.npz\n",
            "11493376/11490434 [==============================] - 0s 0us/step\n",
            "11501568/11490434 [==============================] - 0s 0us/step\n"
          ]
        }
      ]
    },
    {
      "cell_type": "code",
      "source": [
        "train_images = train_images.reshape((60000, 28 * 28))\n",
        "train_images = train_images.astype(\"float32\") / 255\n",
        "test_images = test_images.reshape((10000, 28 * 28))\n",
        "test_images = test_images.astype(\"float32\") / 255"
      ],
      "metadata": {
        "id": "6bvrSbfHDL23"
      },
      "execution_count": null,
      "outputs": []
    },
    {
      "cell_type": "code",
      "source": [
        "from tensorflow import  keras\n",
        "from tensorflow.keras import layers\n",
        "model = keras.Sequential([\n",
        "    layers.Dense(512, activation=\"relu\"),\n",
        "    layers.Dense(10, activation=\"softmax\")\n",
        "])"
      ],
      "metadata": {
        "id": "5gmJXyMlDRGB"
      },
      "execution_count": null,
      "outputs": []
    },
    {
      "cell_type": "code",
      "source": [
        "model.compile(optimizer=\"rmsprop\",\n",
        "              loss=\"sparse_categorical_crossentropy\",\n",
        "              metrics=[\"accuracy\"])"
      ],
      "metadata": {
        "id": "sjuy-vz-DeSk"
      },
      "execution_count": null,
      "outputs": []
    },
    {
      "cell_type": "code",
      "source": [
        "model.fit(train_images, train_labels, epochs=5, batch_size=128)\n"
      ],
      "metadata": {
        "colab": {
          "base_uri": "https://localhost:8080/"
        },
        "id": "VV3LMQ48DitY",
        "outputId": "68df7dbb-85ed-43c3-cd0f-17fa07fa9935"
      },
      "execution_count": null,
      "outputs": [
        {
          "output_type": "stream",
          "name": "stdout",
          "text": [
            "Epoch 1/5\n",
            "469/469 [==============================] - 5s 10ms/step - loss: 0.2568 - accuracy: 0.9260\n",
            "Epoch 2/5\n",
            "469/469 [==============================] - 5s 10ms/step - loss: 0.1039 - accuracy: 0.9697\n",
            "Epoch 3/5\n",
            "469/469 [==============================] - 5s 10ms/step - loss: 0.0696 - accuracy: 0.9791\n",
            "Epoch 4/5\n",
            "469/469 [==============================] - 5s 10ms/step - loss: 0.0493 - accuracy: 0.9851\n",
            "Epoch 5/5\n",
            "469/469 [==============================] - 5s 10ms/step - loss: 0.0377 - accuracy: 0.9885\n"
          ]
        },
        {
          "output_type": "execute_result",
          "data": {
            "text/plain": [
              "<keras.callbacks.History at 0x7f7526468f50>"
            ]
          },
          "metadata": {},
          "execution_count": 44
        }
      ]
    },
    {
      "cell_type": "code",
      "source": [
        "import tensorflow as tf\n",
        "\n",
        "class NaiveDense:\n",
        "    def __init__(self, input_size, output_size, activation):\n",
        "        self.activation = activation\n",
        "\n",
        "        w_shape = (input_size, output_size)\n",
        "        w_initial_value = tf.random.uniform(w_shape, minval=0, maxval=1e-1)\n",
        "        self.W = tf.Variable(w_initial_value)\n",
        "\n",
        "        b_shape = (output_size,)\n",
        "        b_initial_value = tf.zeros(b_shape)\n",
        "        self.b = tf.Variable(b_initial_value)\n",
        "\n",
        "    def __call__(self, inputs):\n",
        "        return self.activation(tf.matmul(inputs, self.W) + self.b)\n",
        "\n",
        "    @property\n",
        "    def weights(self):\n",
        "        return [self.W, self.b]\n"
      ],
      "metadata": {
        "id": "aPh_K0aeDlRu"
      },
      "execution_count": null,
      "outputs": []
    },
    {
      "cell_type": "code",
      "source": [
        "class NaiveSequential:\n",
        "    def __init__(self, layers):\n",
        "        self.layers = layers\n",
        "\n",
        "    def __call__(self, inputs):\n",
        "        x = inputs\n",
        "        for layer in self.layers:\n",
        "           x = layer(x)\n",
        "        return x\n",
        "\n",
        "    @property\n",
        "    def weights(self):\n",
        "       weights = []\n",
        "       for layer in self.layers:\n",
        "           weights += layer.weights\n",
        "       return weights"
      ],
      "metadata": {
        "id": "LEV9jqysEvEz"
      },
      "execution_count": null,
      "outputs": []
    },
    {
      "cell_type": "code",
      "source": [
        "model = NaiveSequential([\n",
        "    NaiveDense(input_size=28 * 28, output_size=512, activation=tf.nn.relu),\n",
        "    NaiveDense(input_size=512, output_size=10, activation=tf.nn.softmax)\n",
        "])\n",
        "assert len(model.weights) == 4"
      ],
      "metadata": {
        "id": "qWUWL7oNFe8g"
      },
      "execution_count": null,
      "outputs": []
    },
    {
      "cell_type": "code",
      "source": [
        "model.weights"
      ],
      "metadata": {
        "colab": {
          "base_uri": "https://localhost:8080/"
        },
        "id": "kxJElY2BFmai",
        "outputId": "5854bacd-b038-4ead-a9cf-fcc433af70a9"
      },
      "execution_count": null,
      "outputs": [
        {
          "output_type": "execute_result",
          "data": {
            "text/plain": [
              "[<tf.Variable 'Variable:0' shape=(784, 512) dtype=float32, numpy=\n",
              " array([[0.0207086 , 0.06737169, 0.05057989, ..., 0.09692372, 0.07442844,\n",
              "         0.00563285],\n",
              "        [0.03929036, 0.02871432, 0.07470181, ..., 0.07317952, 0.05043666,\n",
              "         0.03534353],\n",
              "        [0.07798781, 0.09328711, 0.0440641 , ..., 0.01316913, 0.02765346,\n",
              "         0.09640463],\n",
              "        ...,\n",
              "        [0.07878422, 0.0505599 , 0.07048919, ..., 0.09805832, 0.02546353,\n",
              "         0.00116056],\n",
              "        [0.01667166, 0.00626421, 0.09940511, ..., 0.01479086, 0.00045713,\n",
              "         0.061127  ],\n",
              "        [0.02954718, 0.08932342, 0.07829074, ..., 0.05619954, 0.01506553,\n",
              "         0.06757537]], dtype=float32)>,\n",
              " <tf.Variable 'Variable:0' shape=(512,) dtype=float32, numpy=\n",
              " array([0., 0., 0., 0., 0., 0., 0., 0., 0., 0., 0., 0., 0., 0., 0., 0., 0.,\n",
              "        0., 0., 0., 0., 0., 0., 0., 0., 0., 0., 0., 0., 0., 0., 0., 0., 0.,\n",
              "        0., 0., 0., 0., 0., 0., 0., 0., 0., 0., 0., 0., 0., 0., 0., 0., 0.,\n",
              "        0., 0., 0., 0., 0., 0., 0., 0., 0., 0., 0., 0., 0., 0., 0., 0., 0.,\n",
              "        0., 0., 0., 0., 0., 0., 0., 0., 0., 0., 0., 0., 0., 0., 0., 0., 0.,\n",
              "        0., 0., 0., 0., 0., 0., 0., 0., 0., 0., 0., 0., 0., 0., 0., 0., 0.,\n",
              "        0., 0., 0., 0., 0., 0., 0., 0., 0., 0., 0., 0., 0., 0., 0., 0., 0.,\n",
              "        0., 0., 0., 0., 0., 0., 0., 0., 0., 0., 0., 0., 0., 0., 0., 0., 0.,\n",
              "        0., 0., 0., 0., 0., 0., 0., 0., 0., 0., 0., 0., 0., 0., 0., 0., 0.,\n",
              "        0., 0., 0., 0., 0., 0., 0., 0., 0., 0., 0., 0., 0., 0., 0., 0., 0.,\n",
              "        0., 0., 0., 0., 0., 0., 0., 0., 0., 0., 0., 0., 0., 0., 0., 0., 0.,\n",
              "        0., 0., 0., 0., 0., 0., 0., 0., 0., 0., 0., 0., 0., 0., 0., 0., 0.,\n",
              "        0., 0., 0., 0., 0., 0., 0., 0., 0., 0., 0., 0., 0., 0., 0., 0., 0.,\n",
              "        0., 0., 0., 0., 0., 0., 0., 0., 0., 0., 0., 0., 0., 0., 0., 0., 0.,\n",
              "        0., 0., 0., 0., 0., 0., 0., 0., 0., 0., 0., 0., 0., 0., 0., 0., 0.,\n",
              "        0., 0., 0., 0., 0., 0., 0., 0., 0., 0., 0., 0., 0., 0., 0., 0., 0.,\n",
              "        0., 0., 0., 0., 0., 0., 0., 0., 0., 0., 0., 0., 0., 0., 0., 0., 0.,\n",
              "        0., 0., 0., 0., 0., 0., 0., 0., 0., 0., 0., 0., 0., 0., 0., 0., 0.,\n",
              "        0., 0., 0., 0., 0., 0., 0., 0., 0., 0., 0., 0., 0., 0., 0., 0., 0.,\n",
              "        0., 0., 0., 0., 0., 0., 0., 0., 0., 0., 0., 0., 0., 0., 0., 0., 0.,\n",
              "        0., 0., 0., 0., 0., 0., 0., 0., 0., 0., 0., 0., 0., 0., 0., 0., 0.,\n",
              "        0., 0., 0., 0., 0., 0., 0., 0., 0., 0., 0., 0., 0., 0., 0., 0., 0.,\n",
              "        0., 0., 0., 0., 0., 0., 0., 0., 0., 0., 0., 0., 0., 0., 0., 0., 0.,\n",
              "        0., 0., 0., 0., 0., 0., 0., 0., 0., 0., 0., 0., 0., 0., 0., 0., 0.,\n",
              "        0., 0., 0., 0., 0., 0., 0., 0., 0., 0., 0., 0., 0., 0., 0., 0., 0.,\n",
              "        0., 0., 0., 0., 0., 0., 0., 0., 0., 0., 0., 0., 0., 0., 0., 0., 0.,\n",
              "        0., 0., 0., 0., 0., 0., 0., 0., 0., 0., 0., 0., 0., 0., 0., 0., 0.,\n",
              "        0., 0., 0., 0., 0., 0., 0., 0., 0., 0., 0., 0., 0., 0., 0., 0., 0.,\n",
              "        0., 0., 0., 0., 0., 0., 0., 0., 0., 0., 0., 0., 0., 0., 0., 0., 0.,\n",
              "        0., 0., 0., 0., 0., 0., 0., 0., 0., 0., 0., 0., 0., 0., 0., 0., 0.,\n",
              "        0., 0.], dtype=float32)>,\n",
              " <tf.Variable 'Variable:0' shape=(512, 10) dtype=float32, numpy=\n",
              " array([[0.06484772, 0.07633897, 0.03599547, ..., 0.09146092, 0.02356672,\n",
              "         0.04782065],\n",
              "        [0.01137043, 0.07304295, 0.03558767, ..., 0.08895403, 0.00510902,\n",
              "         0.0338212 ],\n",
              "        [0.09644751, 0.0485273 , 0.09506329, ..., 0.05327532, 0.04734979,\n",
              "         0.02025076],\n",
              "        ...,\n",
              "        [0.09313046, 0.05104224, 0.05440579, ..., 0.09338408, 0.01764079,\n",
              "         0.03946523],\n",
              "        [0.05877266, 0.00079362, 0.00426189, ..., 0.04830734, 0.09474804,\n",
              "         0.08433529],\n",
              "        [0.09054911, 0.05810463, 0.0246567 , ..., 0.08523392, 0.04829824,\n",
              "         0.06767092]], dtype=float32)>,\n",
              " <tf.Variable 'Variable:0' shape=(10,) dtype=float32, numpy=array([0., 0., 0., 0., 0., 0., 0., 0., 0., 0.], dtype=float32)>]"
            ]
          },
          "metadata": {},
          "execution_count": 48
        }
      ]
    },
    {
      "cell_type": "code",
      "source": [
        "import math\n",
        "\n",
        "class BatchGenerator:\n",
        "    def __init__(self, images, labels, batch_size=128):\n",
        "        assert len(images) == len(labels)\n",
        "        self.index = 0\n",
        "        self.images = images\n",
        "        self.labels = labels\n",
        "        self.batch_size = batch_size\n",
        "        self.num_batches = math.ceil(len(images) / batch_size)\n",
        "\n",
        "    def next(self):\n",
        "        images = self.images[self.index : self.index + self.batch_size]\n",
        "        labels = self.labels[self.index : self.index + self.batch_size]\n",
        "        self.index += self.batch_size\n",
        "        return images, labels"
      ],
      "metadata": {
        "id": "yanCSKESFoA0"
      },
      "execution_count": null,
      "outputs": []
    },
    {
      "cell_type": "code",
      "source": [
        "def one_training_step(model, images_batch, labels_batch):\n",
        "    with tf.GradientTape() as tape:\n",
        "        predictions = model(images_batch)\n",
        "        per_sample_losses = tf.keras.losses.sparse_categorical_crossentropy(\n",
        "            labels_batch, predictions)\n",
        "        average_loss = tf.reduce_mean(per_sample_losses)\n",
        "    gradients = tape.gradient(average_loss, model.weights)\n",
        "    update_weights(gradients, model.weights)\n",
        "    return average_loss"
      ],
      "metadata": {
        "id": "oeGVcEghFxW_"
      },
      "execution_count": null,
      "outputs": []
    },
    {
      "cell_type": "code",
      "source": [
        "learning_rate = 1e-3\n",
        "\n",
        "def update_weights(gradients, weights):\n",
        "    for g, w in zip(gradients, weights):\n",
        "        w.assign_sub(g * learning_rate)"
      ],
      "metadata": {
        "id": "rDK5g0SXGLy1"
      },
      "execution_count": null,
      "outputs": []
    },
    {
      "cell_type": "code",
      "source": [
        "from tensorflow.keras import optimizers\n",
        "\n",
        "optimizer = optimizers.SGD(learning_rate=1e-3)\n",
        "\n",
        "def update_weights(gradients, weights):\n",
        "    optimizer.apply_gradients(zip(gradients, weights))"
      ],
      "metadata": {
        "id": "F5aEiIizGUno"
      },
      "execution_count": null,
      "outputs": []
    },
    {
      "cell_type": "code",
      "source": [
        "def fit(model, images, labels, epochs, batch_size=128):\n",
        "    for epoch_counter in range(epochs):\n",
        "        print(f\"Epoch {epoch_counter}\")\n",
        "        batch_generator = BatchGenerator(images, labels)\n",
        "        for batch_counter in range(batch_generator.num_batches):\n",
        "            images_batch, labels_batch = batch_generator.next()\n",
        "            loss = one_training_step(model, images_batch, labels_batch)\n",
        "            if batch_counter % 100 == 0:\n",
        "                print(f\"loss at batch {batch_counter}: {loss:.2f}\")"
      ],
      "metadata": {
        "id": "y4VauO84GZVx"
      },
      "execution_count": null,
      "outputs": []
    },
    {
      "cell_type": "code",
      "source": [
        "from tensorflow.keras.datasets import mnist\n",
        "(train_images, train_labels), (test_images, test_labels) = mnist.load_data()\n",
        "\n",
        "train_images = train_images.reshape((60000, 28 * 28))\n",
        "train_images = train_images.astype(\"float32\") / 255\n",
        "test_images = test_images.reshape((10000, 28 * 28))\n",
        "test_images = test_images.astype(\"float32\") / 255\n",
        "\n",
        "fit(model, train_images, train_labels, epochs=10, batch_size=128)"
      ],
      "metadata": {
        "colab": {
          "base_uri": "https://localhost:8080/"
        },
        "id": "PzLfqhC8GlVE",
        "outputId": "7b2ab6cc-bfa4-4409-de9f-e6f46a1526f0"
      },
      "execution_count": null,
      "outputs": [
        {
          "output_type": "stream",
          "name": "stdout",
          "text": [
            "Epoch 0\n",
            "loss at batch 0: 4.87\n",
            "loss at batch 100: 2.29\n",
            "loss at batch 200: 2.24\n",
            "loss at batch 300: 2.11\n",
            "loss at batch 400: 2.26\n",
            "Epoch 1\n",
            "loss at batch 0: 1.92\n",
            "loss at batch 100: 1.92\n",
            "loss at batch 200: 1.86\n",
            "loss at batch 300: 1.73\n",
            "loss at batch 400: 1.86\n",
            "Epoch 2\n",
            "loss at batch 0: 1.60\n",
            "loss at batch 100: 1.61\n",
            "loss at batch 200: 1.54\n",
            "loss at batch 300: 1.43\n",
            "loss at batch 400: 1.53\n",
            "Epoch 3\n",
            "loss at batch 0: 1.33\n",
            "loss at batch 100: 1.37\n",
            "loss at batch 200: 1.28\n",
            "loss at batch 300: 1.21\n",
            "loss at batch 400: 1.29\n",
            "Epoch 4\n",
            "loss at batch 0: 1.13\n",
            "loss at batch 100: 1.18\n",
            "loss at batch 200: 1.07\n",
            "loss at batch 300: 1.05\n",
            "loss at batch 400: 1.12\n",
            "Epoch 5\n",
            "loss at batch 0: 0.99\n",
            "loss at batch 100: 1.04\n",
            "loss at batch 200: 0.92\n",
            "loss at batch 300: 0.93\n",
            "loss at batch 400: 1.00\n",
            "Epoch 6\n",
            "loss at batch 0: 0.88\n",
            "loss at batch 100: 0.93\n",
            "loss at batch 200: 0.82\n",
            "loss at batch 300: 0.84\n",
            "loss at batch 400: 0.91\n",
            "Epoch 7\n",
            "loss at batch 0: 0.79\n",
            "loss at batch 100: 0.84\n",
            "loss at batch 200: 0.74\n",
            "loss at batch 300: 0.77\n",
            "loss at batch 400: 0.84\n",
            "Epoch 8\n",
            "loss at batch 0: 0.73\n",
            "loss at batch 100: 0.77\n",
            "loss at batch 200: 0.67\n",
            "loss at batch 300: 0.71\n",
            "loss at batch 400: 0.78\n",
            "Epoch 9\n",
            "loss at batch 0: 0.68\n",
            "loss at batch 100: 0.72\n",
            "loss at batch 200: 0.62\n",
            "loss at batch 300: 0.66\n",
            "loss at batch 400: 0.74\n"
          ]
        }
      ]
    },
    {
      "cell_type": "code",
      "source": [
        "predictions = model(test_images)\n",
        "predictions = predictions.numpy()\n",
        "predicted_labels = np.argmax(predictions, axis=1)\n",
        "matches = predicted_labels == test_labels\n",
        "print(f\"accuracy: {matches.mean():.2f}\")"
      ],
      "metadata": {
        "colab": {
          "base_uri": "https://localhost:8080/"
        },
        "id": "PXQvUT0wGxUt",
        "outputId": "6781244b-5aa0-4186-ebbd-cdff66a21324"
      },
      "execution_count": null,
      "outputs": [
        {
          "output_type": "stream",
          "name": "stdout",
          "text": [
            "accuracy: 0.82\n"
          ]
        }
      ]
    },
    {
      "cell_type": "code",
      "source": [
        ""
      ],
      "metadata": {
        "id": "ShKJHkWgHA1x"
      },
      "execution_count": null,
      "outputs": []
    },
    {
      "cell_type": "code",
      "source": [
        ""
      ],
      "metadata": {
        "id": "VbtnXsIKDZhS"
      },
      "execution_count": null,
      "outputs": []
    },
    {
      "cell_type": "code",
      "source": [
        ""
      ],
      "metadata": {
        "id": "JKcKRkZUDVRT"
      },
      "execution_count": null,
      "outputs": []
    },
    {
      "cell_type": "code",
      "source": [
        ""
      ],
      "metadata": {
        "id": "6CT7mHkTB_on"
      },
      "execution_count": null,
      "outputs": []
    },
    {
      "cell_type": "code",
      "source": [
        ""
      ],
      "metadata": {
        "id": "hFewvC4Fq_Su"
      },
      "execution_count": null,
      "outputs": []
    },
    {
      "cell_type": "code",
      "source": [
        ""
      ],
      "metadata": {
        "id": "Fel4pT_PYM0B"
      },
      "execution_count": null,
      "outputs": []
    },
    {
      "cell_type": "code",
      "source": [
        ""
      ],
      "metadata": {
        "id": "tHdkAEteT8WS"
      },
      "execution_count": null,
      "outputs": []
    }
  ]
}