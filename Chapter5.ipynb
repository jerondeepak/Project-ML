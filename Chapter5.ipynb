{
  "nbformat": 4,
  "nbformat_minor": 0,
  "metadata": {
    "colab": {
      "name": "Chapter5.ipynb",
      "provenance": [],
      "authorship_tag": "ABX9TyPw45nTr66jjqKpOCWU8/eJ",
      "include_colab_link": true
    },
    "kernelspec": {
      "name": "python3",
      "display_name": "Python 3"
    },
    "language_info": {
      "name": "python"
    }
  },
  "cells": [
    {
      "cell_type": "markdown",
      "metadata": {
        "id": "view-in-github",
        "colab_type": "text"
      },
      "source": [
        "<a href=\"https://colab.research.google.com/github/jerondeepak/Project-ML/blob/main/Chapter5.ipynb\" target=\"_parent\"><img src=\"https://colab.research.google.com/assets/colab-badge.svg\" alt=\"Open In Colab\"/></a>"
      ]
    },
    {
      "cell_type": "code",
      "execution_count": null,
      "metadata": {
        "colab": {
          "base_uri": "https://localhost:8080/"
        },
        "id": "ao8pjkxPTidz",
        "outputId": "ddc3d7b3-fa41-4c77-a09d-25cba26da872"
      },
      "outputs": [
        {
          "output_type": "stream",
          "name": "stdout",
          "text": [
            "Downloading data from https://storage.googleapis.com/tensorflow/tf-keras-datasets/mnist.npz\n",
            "11493376/11490434 [==============================] - 0s 0us/step\n",
            "11501568/11490434 [==============================] - 0s 0us/step\n"
          ]
        }
      ],
      "source": [
        "from tensorflow.keras.datasets import mnist\n",
        "import numpy as np\n",
        "\n",
        "(train_images, train_labels), _ = mnist.load_data()\n",
        "train_images = train_images.reshape((60000, 28 * 28))\n",
        "train_images = train_images.astype(\"float32\") / 255\n",
        "\n",
        "train_images_with_noise_channels = np.concatenate(\n",
        "    [train_images, np.random.random((len(train_images), 784))], axis=1)\n",
        "\n",
        "train_images_with_zeros_channels = np.concatenate(\n",
        "    [train_images, np.zeros((len(train_images), 784))], axis=1)"
      ]
    },
    {
      "cell_type": "code",
      "source": [
        "from tensorflow import keras\n",
        "from tensorflow.keras import layers\n",
        "\n",
        "def get_model():\n",
        "    model = keras.Sequential([\n",
        "        layers.Dense(512, activation=\"relu\"),\n",
        "        layers.Dense(10, activation=\"softmax\")\n",
        "    ])\n",
        "    model.compile(optimizer=\"rmsprop\",\n",
        "                  loss=\"sparse_categorical_crossentropy\",\n",
        "                  metrics=[\"accuracy\"])\n",
        "    return model\n",
        "\n",
        "model = get_model()\n",
        "history_noise = model.fit(\n",
        "    train_images_with_noise_channels, train_labels,\n",
        "    epochs=10,\n",
        "    batch_size=128,\n",
        "    validation_split=0.2)\n",
        "\n",
        "model = get_model()\n",
        "history_zeros = model.fit(\n",
        "    train_images_with_zeros_channels, train_labels,\n",
        "    epochs=10,\n",
        "    batch_size=128,\n",
        "    validation_split=0.2)"
      ],
      "metadata": {
        "colab": {
          "base_uri": "https://localhost:8080/"
        },
        "id": "Kt3M4-e3T2UF",
        "outputId": "9433d597-eaa6-43b0-bc8d-67e4ff159a33"
      },
      "execution_count": null,
      "outputs": [
        {
          "output_type": "stream",
          "name": "stdout",
          "text": [
            "Epoch 1/10\n",
            "375/375 [==============================] - 7s 17ms/step - loss: 0.6270 - accuracy: 0.8127 - val_loss: 0.3557 - val_accuracy: 0.8819\n",
            "Epoch 2/10\n",
            "375/375 [==============================] - 6s 17ms/step - loss: 0.2453 - accuracy: 0.9243 - val_loss: 0.1791 - val_accuracy: 0.9453\n",
            "Epoch 3/10\n",
            "375/375 [==============================] - 6s 17ms/step - loss: 0.1600 - accuracy: 0.9508 - val_loss: 0.1579 - val_accuracy: 0.9512\n",
            "Epoch 4/10\n",
            "375/375 [==============================] - 6s 17ms/step - loss: 0.1162 - accuracy: 0.9628 - val_loss: 0.1575 - val_accuracy: 0.9550\n",
            "Epoch 5/10\n",
            "375/375 [==============================] - 6s 17ms/step - loss: 0.0839 - accuracy: 0.9739 - val_loss: 0.1234 - val_accuracy: 0.9635\n",
            "Epoch 6/10\n",
            "375/375 [==============================] - 6s 16ms/step - loss: 0.0614 - accuracy: 0.9801 - val_loss: 0.1405 - val_accuracy: 0.9564\n",
            "Epoch 7/10\n",
            "375/375 [==============================] - 6s 16ms/step - loss: 0.0463 - accuracy: 0.9846 - val_loss: 0.2464 - val_accuracy: 0.9285\n",
            "Epoch 8/10\n",
            "375/375 [==============================] - 6s 16ms/step - loss: 0.0361 - accuracy: 0.9886 - val_loss: 0.1357 - val_accuracy: 0.9632\n",
            "Epoch 9/10\n",
            "375/375 [==============================] - 6s 16ms/step - loss: 0.0263 - accuracy: 0.9915 - val_loss: 0.1320 - val_accuracy: 0.9658\n",
            "Epoch 10/10\n",
            "375/375 [==============================] - 6s 17ms/step - loss: 0.0223 - accuracy: 0.9928 - val_loss: 0.1421 - val_accuracy: 0.9678\n",
            "Epoch 1/10\n",
            "375/375 [==============================] - 7s 17ms/step - loss: 0.2887 - accuracy: 0.9165 - val_loss: 0.1583 - val_accuracy: 0.9536\n",
            "Epoch 2/10\n",
            "375/375 [==============================] - 6s 16ms/step - loss: 0.1175 - accuracy: 0.9643 - val_loss: 0.1022 - val_accuracy: 0.9696\n",
            "Epoch 3/10\n",
            "375/375 [==============================] - 6s 17ms/step - loss: 0.0770 - accuracy: 0.9772 - val_loss: 0.0877 - val_accuracy: 0.9744\n",
            "Epoch 4/10\n",
            "375/375 [==============================] - 6s 17ms/step - loss: 0.0549 - accuracy: 0.9831 - val_loss: 0.0818 - val_accuracy: 0.9768\n",
            "Epoch 5/10\n",
            "375/375 [==============================] - 6s 17ms/step - loss: 0.0412 - accuracy: 0.9879 - val_loss: 0.0803 - val_accuracy: 0.9764\n",
            "Epoch 6/10\n",
            "375/375 [==============================] - 6s 17ms/step - loss: 0.0311 - accuracy: 0.9909 - val_loss: 0.0812 - val_accuracy: 0.9767\n",
            "Epoch 7/10\n",
            "375/375 [==============================] - 6s 17ms/step - loss: 0.0239 - accuracy: 0.9927 - val_loss: 0.0920 - val_accuracy: 0.9751\n",
            "Epoch 8/10\n",
            "375/375 [==============================] - 6s 17ms/step - loss: 0.0185 - accuracy: 0.9945 - val_loss: 0.0816 - val_accuracy: 0.9792\n",
            "Epoch 9/10\n",
            "375/375 [==============================] - 6s 17ms/step - loss: 0.0139 - accuracy: 0.9960 - val_loss: 0.0837 - val_accuracy: 0.9786\n",
            "Epoch 10/10\n",
            "375/375 [==============================] - 6s 17ms/step - loss: 0.0104 - accuracy: 0.9970 - val_loss: 0.0865 - val_accuracy: 0.9793\n"
          ]
        }
      ]
    },
    {
      "cell_type": "code",
      "source": [
        "import matplotlib.pyplot as plt\n",
        "val_acc_noise = history_noise.history[\"val_accuracy\"]\n",
        "val_acc_zeros = history_zeros.history[\"val_accuracy\"]\n",
        "epochs = range(1, 11)\n",
        "plt.plot(epochs, val_acc_noise, \"b-\",\n",
        "         label=\"Validation accuracy with noise channels\")\n",
        "plt.plot(epochs, val_acc_zeros, \"b--\",\n",
        "         label=\"Validation accuracy with zeros channels\")\n",
        "plt.title(\"Effect of noise channels on validation accuracy\")\n",
        "plt.xlabel(\"Epochs\")\n",
        "plt.ylabel(\"Accuracy\")\n",
        "plt.legend()"
      ],
      "metadata": {
        "colab": {
          "base_uri": "https://localhost:8080/",
          "height": 312
        },
        "id": "ne2i_lQFT73p",
        "outputId": "16dd61bf-aa50-4c1e-e573-cec7ee7fb802"
      },
      "execution_count": null,
      "outputs": [
        {
          "output_type": "execute_result",
          "data": {
            "text/plain": [
              "<matplotlib.legend.Legend at 0x7f34928a7fd0>"
            ]
          },
          "metadata": {},
          "execution_count": 3
        },
        {
          "output_type": "display_data",
          "data": {
            "image/png": "[encoded data removed]",
            "text/plain": [
              "<Figure size 432x288 with 1 Axes>"
            ]
          },
          "metadata": {
            "needs_background": "light"
          }
        }
      ]
    },
    {
      "cell_type": "code",
      "source": [
        "(train_images, train_labels), _ = mnist.load_data()\n",
        "train_images = train_images.reshape((60000, 28 * 28))\n",
        "train_images = train_images.astype(\"float32\") / 255\n",
        "\n",
        "random_train_labels = train_labels[:]\n",
        "np.random.shuffle(random_train_labels)\n",
        "\n",
        "model = keras.Sequential([\n",
        "    layers.Dense(512, activation=\"relu\"),\n",
        "    layers.Dense(10, activation=\"softmax\")\n",
        "])\n",
        "model.compile(optimizer=\"rmsprop\",\n",
        "              loss=\"sparse_categorical_crossentropy\",\n",
        "              metrics=[\"accuracy\"])\n",
        "model.fit(train_images, random_train_labels,\n",
        "          epochs=10,\n",
        "          batch_size=128,\n",
        "          validation_split=0.2)"
      ],
      "metadata": {
        "colab": {
          "base_uri": "https://localhost:8080/"
        },
        "id": "aG1b0IPyUDsq",
        "outputId": "25938417-7be8-49a1-eb8e-266b18d25227"
      },
      "execution_count": null,
      "outputs": [
        {
          "output_type": "stream",
          "name": "stdout",
          "text": [
            "Epoch 1/10\n",
            "375/375 [==============================] - 4s 10ms/step - loss: 2.3166 - accuracy: 0.1028 - val_loss: 2.3077 - val_accuracy: 0.1037\n",
            "Epoch 2/10\n",
            "375/375 [==============================] - 4s 10ms/step - loss: 2.2997 - accuracy: 0.1161 - val_loss: 2.3138 - val_accuracy: 0.1079\n",
            "Epoch 3/10\n",
            "375/375 [==============================] - 4s 10ms/step - loss: 2.2899 - accuracy: 0.1271 - val_loss: 2.3187 - val_accuracy: 0.1026\n",
            "Epoch 4/10\n",
            "375/375 [==============================] - 4s 10ms/step - loss: 2.2760 - accuracy: 0.1402 - val_loss: 2.3297 - val_accuracy: 0.1003\n",
            "Epoch 5/10\n",
            "375/375 [==============================] - 4s 10ms/step - loss: 2.2578 - accuracy: 0.1532 - val_loss: 2.3404 - val_accuracy: 0.1025\n",
            "Epoch 6/10\n",
            "375/375 [==============================] - 4s 10ms/step - loss: 2.2363 - accuracy: 0.1689 - val_loss: 2.3519 - val_accuracy: 0.1053\n",
            "Epoch 7/10\n",
            "375/375 [==============================] - 4s 10ms/step - loss: 2.2100 - accuracy: 0.1850 - val_loss: 2.3756 - val_accuracy: 0.1032\n",
            "Epoch 8/10\n",
            "375/375 [==============================] - 4s 10ms/step - loss: 2.1829 - accuracy: 0.2013 - val_loss: 2.3940 - val_accuracy: 0.1034\n",
            "Epoch 9/10\n",
            "375/375 [==============================] - 4s 10ms/step - loss: 2.1529 - accuracy: 0.2153 - val_loss: 2.4102 - val_accuracy: 0.1019\n",
            "Epoch 10/10\n",
            "375/375 [==============================] - 4s 10ms/step - loss: 2.1222 - accuracy: 0.2302 - val_loss: 2.4264 - val_accuracy: 0.1058\n"
          ]
        },
        {
          "output_type": "execute_result",
          "data": {
            "text/plain": [
              "<keras.callbacks.History at 0x7f34108a4910>"
            ]
          },
          "metadata": {},
          "execution_count": 5
        }
      ]
    },
    {
      "cell_type": "code",
      "source": [
        "(train_images, train_labels), _ = mnist.load_data()\n",
        "train_images = train_images.reshape((60000, 28 * 28))\n",
        "train_images = train_images.astype(\"float32\") / 255\n",
        "\n",
        "model = keras.Sequential([\n",
        "    layers.Dense(512, activation=\"relu\"),\n",
        "    layers.Dense(10, activation=\"softmax\")\n",
        "])\n",
        "model.compile(optimizer=keras.optimizers.RMSprop(1.),\n",
        "              loss=\"sparse_categorical_crossentropy\",\n",
        "              metrics=[\"accuracy\"])\n",
        "model.fit(train_images, train_labels,\n",
        "          epochs=10,\n",
        "          batch_size=128,\n",
        "          validation_split=0.2)"
      ],
      "metadata": {
        "colab": {
          "base_uri": "https://localhost:8080/"
        },
        "id": "ypfN0zXjULo0",
        "outputId": "1754bc41-7f81-41e6-a8eb-a2a357b3a375"
      },
      "execution_count": null,
      "outputs": [
        {
          "output_type": "stream",
          "name": "stdout",
          "text": [
            "Epoch 1/10\n",
            "375/375 [==============================] - 4s 11ms/step - loss: 774.7418 - accuracy: 0.3574 - val_loss: 2.6489 - val_accuracy: 0.2217\n",
            "Epoch 2/10\n",
            "375/375 [==============================] - 4s 10ms/step - loss: 3.1983 - accuracy: 0.2515 - val_loss: 2.0868 - val_accuracy: 0.2123\n",
            "Epoch 3/10\n",
            "375/375 [==============================] - 4s 10ms/step - loss: 3.2268 - accuracy: 0.2459 - val_loss: 2.0292 - val_accuracy: 0.2432\n",
            "Epoch 4/10\n",
            "375/375 [==============================] - 4s 10ms/step - loss: 2.7984 - accuracy: 0.2417 - val_loss: 3.4696 - val_accuracy: 0.2616\n",
            "Epoch 5/10\n",
            "375/375 [==============================] - 4s 10ms/step - loss: 2.5119 - accuracy: 0.2389 - val_loss: 2.1168 - val_accuracy: 0.2129\n",
            "Epoch 6/10\n",
            "375/375 [==============================] - 4s 10ms/step - loss: 2.2789 - accuracy: 0.2373 - val_loss: 2.0314 - val_accuracy: 0.2598\n",
            "Epoch 7/10\n",
            "375/375 [==============================] - 4s 10ms/step - loss: 2.4470 - accuracy: 0.2512 - val_loss: 2.0386 - val_accuracy: 0.2293\n",
            "Epoch 8/10\n",
            "375/375 [==============================] - 4s 10ms/step - loss: 2.3544 - accuracy: 0.2416 - val_loss: 2.1550 - val_accuracy: 0.2353\n",
            "Epoch 9/10\n",
            "375/375 [==============================] - 4s 10ms/step - loss: 2.3059 - accuracy: 0.2481 - val_loss: 2.0392 - val_accuracy: 0.2412\n",
            "Epoch 10/10\n",
            "375/375 [==============================] - 4s 10ms/step - loss: 2.3880 - accuracy: 0.2327 - val_loss: 2.1590 - val_accuracy: 0.2120\n"
          ]
        },
        {
          "output_type": "execute_result",
          "data": {
            "text/plain": [
              "<keras.callbacks.History at 0x7f34106c0ad0>"
            ]
          },
          "metadata": {},
          "execution_count": 6
        }
      ]
    },
    {
      "cell_type": "code",
      "source": [
        "model = keras.Sequential([\n",
        "    layers.Dense(512, activation=\"relu\"),\n",
        "    layers.Dense(10, activation=\"softmax\")\n",
        "])\n",
        "model.compile(optimizer=keras.optimizers.RMSprop(1e-2),\n",
        "              loss=\"sparse_categorical_crossentropy\",\n",
        "              metrics=[\"accuracy\"])\n",
        "model.fit(train_images, train_labels,\n",
        "          epochs=10,\n",
        "          batch_size=128,\n",
        "          validation_split=0.2)"
      ],
      "metadata": {
        "colab": {
          "base_uri": "https://localhost:8080/"
        },
        "id": "uxy0JYYPUQ6H",
        "outputId": "ccfa47db-ccd5-4447-b2a9-28904315b596"
      },
      "execution_count": null,
      "outputs": [
        {
          "output_type": "stream",
          "name": "stdout",
          "text": [
            "Epoch 1/10\n",
            "375/375 [==============================] - 4s 10ms/step - loss: 0.3860 - accuracy: 0.9118 - val_loss: 0.1513 - val_accuracy: 0.9561\n",
            "Epoch 2/10\n",
            "375/375 [==============================] - 4s 10ms/step - loss: 0.1433 - accuracy: 0.9636 - val_loss: 0.1535 - val_accuracy: 0.9653\n",
            "Epoch 3/10\n",
            "375/375 [==============================] - 4s 10ms/step - loss: 0.1142 - accuracy: 0.9726 - val_loss: 0.1713 - val_accuracy: 0.9666\n",
            "Epoch 4/10\n",
            "375/375 [==============================] - 4s 10ms/step - loss: 0.0998 - accuracy: 0.9779 - val_loss: 0.2041 - val_accuracy: 0.9662\n",
            "Epoch 5/10\n",
            "375/375 [==============================] - 4s 10ms/step - loss: 0.0893 - accuracy: 0.9819 - val_loss: 0.2305 - val_accuracy: 0.9640\n",
            "Epoch 6/10\n",
            "375/375 [==============================] - 4s 10ms/step - loss: 0.0736 - accuracy: 0.9850 - val_loss: 0.2634 - val_accuracy: 0.9686\n",
            "Epoch 7/10\n",
            "375/375 [==============================] - 4s 10ms/step - loss: 0.0737 - accuracy: 0.9865 - val_loss: 0.2709 - val_accuracy: 0.9693\n",
            "Epoch 8/10\n",
            "375/375 [==============================] - 4s 10ms/step - loss: 0.0652 - accuracy: 0.9881 - val_loss: 0.3055 - val_accuracy: 0.9702\n",
            "Epoch 9/10\n",
            "375/375 [==============================] - 4s 10ms/step - loss: 0.0579 - accuracy: 0.9898 - val_loss: 0.2942 - val_accuracy: 0.9739\n",
            "Epoch 10/10\n",
            "375/375 [==============================] - 4s 10ms/step - loss: 0.0551 - accuracy: 0.9906 - val_loss: 0.2899 - val_accuracy: 0.9738\n"
          ]
        },
        {
          "output_type": "execute_result",
          "data": {
            "text/plain": [
              "<keras.callbacks.History at 0x7f34105a4310>"
            ]
          },
          "metadata": {},
          "execution_count": 7
        }
      ]
    },
    {
      "cell_type": "code",
      "source": [
        "model = keras.Sequential([layers.Dense(10, activation=\"softmax\")])\n",
        "model.compile(optimizer=\"rmsprop\",\n",
        "              loss=\"sparse_categorical_crossentropy\",\n",
        "              metrics=[\"accuracy\"])\n",
        "history_small_model = model.fit(\n",
        "    train_images, train_labels,\n",
        "    epochs=20,\n",
        "    batch_size=128,\n",
        "    validation_split=0.2)"
      ],
      "metadata": {
        "colab": {
          "base_uri": "https://localhost:8080/"
        },
        "id": "grHa-UHfUpoP",
        "outputId": "dd1967e1-baa6-41bb-8d89-11a050d2ff24"
      },
      "execution_count": null,
      "outputs": [
        {
          "output_type": "stream",
          "name": "stdout",
          "text": [
            "Epoch 1/20\n",
            "375/375 [==============================] - 2s 3ms/step - loss: 0.6729 - accuracy: 0.8335 - val_loss: 0.3601 - val_accuracy: 0.9053\n",
            "Epoch 2/20\n",
            "375/375 [==============================] - 1s 2ms/step - loss: 0.3515 - accuracy: 0.9026 - val_loss: 0.3057 - val_accuracy: 0.9158\n",
            "Epoch 3/20\n",
            "375/375 [==============================] - 1s 2ms/step - loss: 0.3155 - accuracy: 0.9123 - val_loss: 0.2885 - val_accuracy: 0.9199\n",
            "Epoch 4/20\n",
            "375/375 [==============================] - 1s 2ms/step - loss: 0.2991 - accuracy: 0.9173 - val_loss: 0.2825 - val_accuracy: 0.9208\n",
            "Epoch 5/20\n",
            "375/375 [==============================] - 1s 2ms/step - loss: 0.2895 - accuracy: 0.9191 - val_loss: 0.2754 - val_accuracy: 0.9241\n",
            "Epoch 6/20\n",
            "375/375 [==============================] - 1s 2ms/step - loss: 0.2831 - accuracy: 0.9201 - val_loss: 0.2727 - val_accuracy: 0.9250\n",
            "Epoch 7/20\n",
            "375/375 [==============================] - 1s 2ms/step - loss: 0.2783 - accuracy: 0.9222 - val_loss: 0.2694 - val_accuracy: 0.9266\n",
            "Epoch 8/20\n",
            "375/375 [==============================] - 1s 2ms/step - loss: 0.2743 - accuracy: 0.9239 - val_loss: 0.2663 - val_accuracy: 0.9283\n",
            "Epoch 9/20\n",
            "375/375 [==============================] - 1s 2ms/step - loss: 0.2713 - accuracy: 0.9242 - val_loss: 0.2671 - val_accuracy: 0.9254\n",
            "Epoch 10/20\n",
            "375/375 [==============================] - 1s 2ms/step - loss: 0.2687 - accuracy: 0.9252 - val_loss: 0.2645 - val_accuracy: 0.9287\n",
            "Epoch 11/20\n",
            "375/375 [==============================] - 1s 2ms/step - loss: 0.2667 - accuracy: 0.9262 - val_loss: 0.2631 - val_accuracy: 0.9299\n",
            "Epoch 12/20\n",
            "375/375 [==============================] - 1s 2ms/step - loss: 0.2647 - accuracy: 0.9271 - val_loss: 0.2626 - val_accuracy: 0.9292\n",
            "Epoch 13/20\n",
            "375/375 [==============================] - 1s 2ms/step - loss: 0.2631 - accuracy: 0.9272 - val_loss: 0.2647 - val_accuracy: 0.9273\n",
            "Epoch 14/20\n",
            "375/375 [==============================] - 1s 2ms/step - loss: 0.2618 - accuracy: 0.9286 - val_loss: 0.2624 - val_accuracy: 0.9297\n",
            "Epoch 15/20\n",
            "375/375 [==============================] - 1s 2ms/step - loss: 0.2604 - accuracy: 0.9289 - val_loss: 0.2609 - val_accuracy: 0.9307\n",
            "Epoch 16/20\n",
            "375/375 [==============================] - 1s 2ms/step - loss: 0.2591 - accuracy: 0.9292 - val_loss: 0.2611 - val_accuracy: 0.9304\n",
            "Epoch 17/20\n",
            "375/375 [==============================] - 1s 2ms/step - loss: 0.2580 - accuracy: 0.9295 - val_loss: 0.2609 - val_accuracy: 0.9306\n",
            "Epoch 18/20\n",
            "375/375 [==============================] - 1s 2ms/step - loss: 0.2571 - accuracy: 0.9294 - val_loss: 0.2601 - val_accuracy: 0.9305\n",
            "Epoch 19/20\n",
            "375/375 [==============================] - 1s 2ms/step - loss: 0.2565 - accuracy: 0.9297 - val_loss: 0.2623 - val_accuracy: 0.9301\n",
            "Epoch 20/20\n",
            "375/375 [==============================] - 1s 2ms/step - loss: 0.2555 - accuracy: 0.9302 - val_loss: 0.2608 - val_accuracy: 0.9302\n"
          ]
        }
      ]
    },
    {
      "cell_type": "code",
      "source": [
        "import matplotlib.pyplot as plt\n",
        "val_loss = history_small_model.history[\"val_loss\"]\n",
        "epochs = range(1, 21)\n",
        "plt.plot(epochs, val_loss, \"b--\",\n",
        "         label=\"Validation loss\")\n",
        "plt.title(\"Effect of insufficient model capacity on validation loss\")\n",
        "plt.xlabel(\"Epochs\")\n",
        "plt.ylabel(\"Loss\")\n",
        "plt.legend()"
      ],
      "metadata": {
        "colab": {
          "base_uri": "https://localhost:8080/",
          "height": 312
        },
        "id": "79hXq-YxVCrN",
        "outputId": "290dbef6-95c5-4a19-8046-9961a0aff43f"
      },
      "execution_count": null,
      "outputs": [
        {
          "output_type": "execute_result",
          "data": {
            "text/plain": [
              "<matplotlib.legend.Legend at 0x7f34104272d0>"
            ]
          },
          "metadata": {},
          "execution_count": 9
        },
        {
          "output_type": "display_data",
          "data": {
            "image/png": "[encoded data removed]",
            "text/plain": [
              "<Figure size 432x288 with 1 Axes>"
            ]
          },
          "metadata": {
            "needs_background": "light"
          }
        }
      ]
    },
    {
      "cell_type": "code",
      "source": [
        "model = keras.Sequential([\n",
        "    layers.Dense(96, activation=\"relu\"),\n",
        "    layers.Dense(96, activation=\"relu\"),\n",
        "    layers.Dense(10, activation=\"softmax\"),\n",
        "])\n",
        "model.compile(optimizer=\"rmsprop\",\n",
        "              loss=\"sparse_categorical_crossentropy\",\n",
        "              metrics=[\"accuracy\"])\n",
        "history_large_model = model.fit(\n",
        "    train_images, train_labels,\n",
        "    epochs=20,\n",
        "    batch_size=128,\n",
        "    validation_split=0.2)\n"
      ],
      "metadata": {
        "colab": {
          "base_uri": "https://localhost:8080/"
        },
        "id": "3Pnowiq7VPQr",
        "outputId": "71cd7572-6370-4ac2-bffa-57fdd8038c18"
      },
      "execution_count": null,
      "outputs": [
        {
          "output_type": "stream",
          "name": "stdout",
          "text": [
            "Epoch 1/20\n",
            "375/375 [==============================] - 3s 5ms/step - loss: 0.3633 - accuracy: 0.8993 - val_loss: 0.1927 - val_accuracy: 0.9451\n",
            "Epoch 2/20\n",
            "375/375 [==============================] - 2s 5ms/step - loss: 0.1575 - accuracy: 0.9522 - val_loss: 0.1461 - val_accuracy: 0.9563\n",
            "Epoch 3/20\n",
            "375/375 [==============================] - 2s 4ms/step - loss: 0.1105 - accuracy: 0.9669 - val_loss: 0.1174 - val_accuracy: 0.9634\n",
            "Epoch 4/20\n",
            "375/375 [==============================] - 2s 4ms/step - loss: 0.0846 - accuracy: 0.9739 - val_loss: 0.1048 - val_accuracy: 0.9672\n",
            "Epoch 5/20\n",
            "375/375 [==============================] - 2s 4ms/step - loss: 0.0680 - accuracy: 0.9792 - val_loss: 0.0988 - val_accuracy: 0.9712\n",
            "Epoch 6/20\n",
            "375/375 [==============================] - 2s 5ms/step - loss: 0.0564 - accuracy: 0.9830 - val_loss: 0.1042 - val_accuracy: 0.9709\n",
            "Epoch 7/20\n",
            "375/375 [==============================] - 2s 5ms/step - loss: 0.0464 - accuracy: 0.9865 - val_loss: 0.0916 - val_accuracy: 0.9738\n",
            "Epoch 8/20\n",
            "375/375 [==============================] - 2s 5ms/step - loss: 0.0390 - accuracy: 0.9883 - val_loss: 0.0928 - val_accuracy: 0.9743\n",
            "Epoch 9/20\n",
            "375/375 [==============================] - 2s 4ms/step - loss: 0.0331 - accuracy: 0.9894 - val_loss: 0.0954 - val_accuracy: 0.9760\n",
            "Epoch 10/20\n",
            "375/375 [==============================] - 2s 5ms/step - loss: 0.0267 - accuracy: 0.9916 - val_loss: 0.1503 - val_accuracy: 0.9648\n",
            "Epoch 11/20\n",
            "375/375 [==============================] - 2s 4ms/step - loss: 0.0229 - accuracy: 0.9926 - val_loss: 0.1100 - val_accuracy: 0.9716\n",
            "Epoch 12/20\n",
            "375/375 [==============================] - 2s 4ms/step - loss: 0.0189 - accuracy: 0.9941 - val_loss: 0.1073 - val_accuracy: 0.9756\n",
            "Epoch 13/20\n",
            "375/375 [==============================] - 2s 5ms/step - loss: 0.0167 - accuracy: 0.9948 - val_loss: 0.1231 - val_accuracy: 0.9744\n",
            "Epoch 14/20\n",
            "375/375 [==============================] - 2s 5ms/step - loss: 0.0148 - accuracy: 0.9957 - val_loss: 0.1151 - val_accuracy: 0.9757\n",
            "Epoch 15/20\n",
            "375/375 [==============================] - 2s 5ms/step - loss: 0.0111 - accuracy: 0.9966 - val_loss: 0.1223 - val_accuracy: 0.9760\n",
            "Epoch 16/20\n",
            "375/375 [==============================] - 2s 5ms/step - loss: 0.0100 - accuracy: 0.9969 - val_loss: 0.1154 - val_accuracy: 0.9771\n",
            "Epoch 17/20\n",
            "375/375 [==============================] - 2s 5ms/step - loss: 0.0092 - accuracy: 0.9971 - val_loss: 0.1221 - val_accuracy: 0.9762\n",
            "Epoch 18/20\n",
            "375/375 [==============================] - 2s 5ms/step - loss: 0.0076 - accuracy: 0.9975 - val_loss: 0.1286 - val_accuracy: 0.9758\n",
            "Epoch 19/20\n",
            "375/375 [==============================] - 2s 5ms/step - loss: 0.0067 - accuracy: 0.9981 - val_loss: 0.1362 - val_accuracy: 0.9759\n",
            "Epoch 20/20\n",
            "375/375 [==============================] - 2s 4ms/step - loss: 0.0058 - accuracy: 0.9983 - val_loss: 0.1453 - val_accuracy: 0.9746\n"
          ]
        }
      ]
    },
    {
      "cell_type": "code",
      "source": [
        "from tensorflow.keras.datasets import imdb\n",
        "(train_data, train_labels), _ = imdb.load_data(num_words=10000)\n",
        "\n",
        "def vectorize_sequences(sequences, dimension=10000):\n",
        "    results = np.zeros((len(sequences), dimension))\n",
        "    for i, sequence in enumerate(sequences):\n",
        "        results[i, sequence] = 1.\n",
        "    return results\n",
        "train_data = vectorize_sequences(train_data)\n",
        "\n",
        "model = keras.Sequential([\n",
        "    layers.Dense(16, activation=\"relu\"),\n",
        "    layers.Dense(16, activation=\"relu\"),\n",
        "    layers.Dense(1, activation=\"sigmoid\")\n",
        "])\n",
        "model.compile(optimizer=\"rmsprop\",\n",
        "              loss=\"binary_crossentropy\",\n",
        "              metrics=[\"accuracy\"])\n",
        "history_original = model.fit(train_data, train_labels,\n",
        "                             epochs=20, batch_size=512, validation_split=0.4)"
      ],
      "metadata": {
        "colab": {
          "base_uri": "https://localhost:8080/"
        },
        "id": "qHzbfKmgVYNT",
        "outputId": "8f6e16b1-e545-42fe-d77c-991470024d8b"
      },
      "execution_count": null,
      "outputs": [
        {
          "output_type": "stream",
          "name": "stdout",
          "text": [
            "Downloading data from https://storage.googleapis.com/tensorflow/tf-keras-datasets/imdb.npz\n",
            "17465344/17464789 [==============================] - 0s 0us/step\n",
            "17473536/17464789 [==============================] - 0s 0us/step\n",
            "Epoch 1/20\n",
            "30/30 [==============================] - 2s 38ms/step - loss: 0.5222 - accuracy: 0.7803 - val_loss: 0.4032 - val_accuracy: 0.8453\n",
            "Epoch 2/20\n",
            "30/30 [==============================] - 1s 31ms/step - loss: 0.3125 - accuracy: 0.9041 - val_loss: 0.3068 - val_accuracy: 0.8867\n",
            "Epoch 3/20\n",
            "30/30 [==============================] - 1s 30ms/step - loss: 0.2282 - accuracy: 0.9277 - val_loss: 0.2758 - val_accuracy: 0.8955\n",
            "Epoch 4/20\n",
            "30/30 [==============================] - 1s 30ms/step - loss: 0.1799 - accuracy: 0.9443 - val_loss: 0.2733 - val_accuracy: 0.8920\n",
            "Epoch 5/20\n",
            "30/30 [==============================] - 1s 30ms/step - loss: 0.1481 - accuracy: 0.9527 - val_loss: 0.2909 - val_accuracy: 0.8845\n",
            "Epoch 6/20\n",
            "30/30 [==============================] - 1s 30ms/step - loss: 0.1242 - accuracy: 0.9622 - val_loss: 0.2928 - val_accuracy: 0.8866\n",
            "Epoch 7/20\n",
            "30/30 [==============================] - 1s 30ms/step - loss: 0.1022 - accuracy: 0.9708 - val_loss: 0.3262 - val_accuracy: 0.8795\n",
            "Epoch 8/20\n",
            "30/30 [==============================] - 1s 31ms/step - loss: 0.0892 - accuracy: 0.9747 - val_loss: 0.3237 - val_accuracy: 0.8833\n",
            "Epoch 9/20\n",
            "30/30 [==============================] - 1s 30ms/step - loss: 0.0736 - accuracy: 0.9804 - val_loss: 0.3467 - val_accuracy: 0.8819\n",
            "Epoch 10/20\n",
            "30/30 [==============================] - 1s 30ms/step - loss: 0.0633 - accuracy: 0.9841 - val_loss: 0.3692 - val_accuracy: 0.8794\n",
            "Epoch 11/20\n",
            "30/30 [==============================] - 1s 31ms/step - loss: 0.0534 - accuracy: 0.9870 - val_loss: 0.4030 - val_accuracy: 0.8745\n",
            "Epoch 12/20\n",
            "30/30 [==============================] - 1s 34ms/step - loss: 0.0437 - accuracy: 0.9899 - val_loss: 0.4298 - val_accuracy: 0.8762\n",
            "Epoch 13/20\n",
            "30/30 [==============================] - 1s 30ms/step - loss: 0.0355 - accuracy: 0.9923 - val_loss: 0.4599 - val_accuracy: 0.8737\n",
            "Epoch 14/20\n",
            "30/30 [==============================] - 1s 30ms/step - loss: 0.0317 - accuracy: 0.9935 - val_loss: 0.5013 - val_accuracy: 0.8679\n",
            "Epoch 15/20\n",
            "30/30 [==============================] - 1s 30ms/step - loss: 0.0281 - accuracy: 0.9935 - val_loss: 0.5162 - val_accuracy: 0.8693\n",
            "Epoch 16/20\n",
            "30/30 [==============================] - 1s 30ms/step - loss: 0.0194 - accuracy: 0.9968 - val_loss: 0.5449 - val_accuracy: 0.8687\n",
            "Epoch 17/20\n",
            "30/30 [==============================] - 1s 30ms/step - loss: 0.0168 - accuracy: 0.9977 - val_loss: 0.5888 - val_accuracy: 0.8664\n",
            "Epoch 18/20\n",
            "30/30 [==============================] - 1s 30ms/step - loss: 0.0137 - accuracy: 0.9981 - val_loss: 0.6125 - val_accuracy: 0.8677\n",
            "Epoch 19/20\n",
            "30/30 [==============================] - 1s 31ms/step - loss: 0.0113 - accuracy: 0.9984 - val_loss: 0.7035 - val_accuracy: 0.8619\n",
            "Epoch 20/20\n",
            "30/30 [==============================] - 1s 31ms/step - loss: 0.0089 - accuracy: 0.9991 - val_loss: 0.6850 - val_accuracy: 0.8655\n"
          ]
        }
      ]
    },
    {
      "cell_type": "code",
      "source": [
        "model = keras.Sequential([\n",
        "    layers.Dense(4, activation=\"relu\"),\n",
        "    layers.Dense(4, activation=\"relu\"),\n",
        "    layers.Dense(1, activation=\"sigmoid\")\n",
        "])\n",
        "model.compile(optimizer=\"rmsprop\",\n",
        "              loss=\"binary_crossentropy\",\n",
        "              metrics=[\"accuracy\"])\n",
        "history_smaller_model = model.fit(\n",
        "    train_data, train_labels,\n",
        "    epochs=20, batch_size=512, validation_split=0.4)"
      ],
      "metadata": {
        "colab": {
          "base_uri": "https://localhost:8080/"
        },
        "id": "BhyQxgODVdq8",
        "outputId": "480554aa-d81c-4cf2-e8b7-ba795234f211"
      },
      "execution_count": null,
      "outputs": [
        {
          "output_type": "stream",
          "name": "stdout",
          "text": [
            "Epoch 1/20\n",
            "30/30 [==============================] - 2s 38ms/step - loss: 0.6110 - accuracy: 0.6627 - val_loss: 0.5509 - val_accuracy: 0.8167\n",
            "Epoch 2/20\n",
            "30/30 [==============================] - 1s 29ms/step - loss: 0.4902 - accuracy: 0.8402 - val_loss: 0.4791 - val_accuracy: 0.8278\n",
            "Epoch 3/20\n",
            "30/30 [==============================] - 1s 29ms/step - loss: 0.3916 - accuracy: 0.9041 - val_loss: 0.3858 - val_accuracy: 0.8819\n",
            "Epoch 4/20\n",
            "30/30 [==============================] - 1s 28ms/step - loss: 0.2913 - accuracy: 0.9285 - val_loss: 0.3192 - val_accuracy: 0.8874\n",
            "Epoch 5/20\n",
            "30/30 [==============================] - 1s 29ms/step - loss: 0.2276 - accuracy: 0.9389 - val_loss: 0.2942 - val_accuracy: 0.8902\n",
            "Epoch 6/20\n",
            "30/30 [==============================] - 1s 29ms/step - loss: 0.1874 - accuracy: 0.9499 - val_loss: 0.2828 - val_accuracy: 0.8899\n",
            "Epoch 7/20\n",
            "30/30 [==============================] - 1s 29ms/step - loss: 0.1585 - accuracy: 0.9574 - val_loss: 0.2780 - val_accuracy: 0.8890\n",
            "Epoch 8/20\n",
            "30/30 [==============================] - 1s 29ms/step - loss: 0.1380 - accuracy: 0.9634 - val_loss: 0.2811 - val_accuracy: 0.8886\n",
            "Epoch 9/20\n",
            "30/30 [==============================] - 1s 29ms/step - loss: 0.1215 - accuracy: 0.9663 - val_loss: 0.2873 - val_accuracy: 0.8877\n",
            "Epoch 10/20\n",
            "30/30 [==============================] - 1s 29ms/step - loss: 0.1065 - accuracy: 0.9725 - val_loss: 0.2989 - val_accuracy: 0.8864\n",
            "Epoch 11/20\n",
            "30/30 [==============================] - 1s 29ms/step - loss: 0.0944 - accuracy: 0.9771 - val_loss: 0.3317 - val_accuracy: 0.8778\n",
            "Epoch 12/20\n",
            "30/30 [==============================] - 1s 29ms/step - loss: 0.0833 - accuracy: 0.9807 - val_loss: 0.3189 - val_accuracy: 0.8808\n",
            "Epoch 13/20\n",
            "30/30 [==============================] - 1s 29ms/step - loss: 0.0751 - accuracy: 0.9823 - val_loss: 0.3317 - val_accuracy: 0.8809\n",
            "Epoch 14/20\n",
            "30/30 [==============================] - 1s 29ms/step - loss: 0.0659 - accuracy: 0.9851 - val_loss: 0.3582 - val_accuracy: 0.8779\n",
            "Epoch 15/20\n",
            "30/30 [==============================] - 1s 29ms/step - loss: 0.0585 - accuracy: 0.9869 - val_loss: 0.3672 - val_accuracy: 0.8770\n",
            "Epoch 16/20\n",
            "30/30 [==============================] - 1s 29ms/step - loss: 0.0516 - accuracy: 0.9892 - val_loss: 0.3953 - val_accuracy: 0.8743\n",
            "Epoch 17/20\n",
            "30/30 [==============================] - 1s 29ms/step - loss: 0.0455 - accuracy: 0.9903 - val_loss: 0.3988 - val_accuracy: 0.8760\n",
            "Epoch 18/20\n",
            "30/30 [==============================] - 1s 29ms/step - loss: 0.0399 - accuracy: 0.9926 - val_loss: 0.4237 - val_accuracy: 0.8731\n",
            "Epoch 19/20\n",
            "30/30 [==============================] - 1s 29ms/step - loss: 0.0352 - accuracy: 0.9938 - val_loss: 0.4364 - val_accuracy: 0.8736\n",
            "Epoch 20/20\n",
            "30/30 [==============================] - 1s 29ms/step - loss: 0.0309 - accuracy: 0.9950 - val_loss: 0.4712 - val_accuracy: 0.8702\n"
          ]
        }
      ]
    },
    {
      "cell_type": "code",
      "source": [
        "model = keras.Sequential([\n",
        "    layers.Dense(512, activation=\"relu\"),\n",
        "    layers.Dense(512, activation=\"relu\"),\n",
        "    layers.Dense(1, activation=\"sigmoid\")\n",
        "])\n",
        "model.compile(optimizer=\"rmsprop\",\n",
        "              loss=\"binary_crossentropy\",\n",
        "              metrics=[\"accuracy\"])\n",
        "history_larger_model = model.fit(\n",
        "    train_data, train_labels,\n",
        "    epochs=20, batch_size=512, validation_split=0.4)"
      ],
      "metadata": {
        "colab": {
          "base_uri": "https://localhost:8080/"
        },
        "id": "abMpekMWVlLL",
        "outputId": "41e1e3b6-02cd-496e-a6c5-9c4737c99e81"
      },
      "execution_count": null,
      "outputs": [
        {
          "output_type": "stream",
          "name": "stdout",
          "text": [
            "Epoch 1/20\n",
            "30/30 [==============================] - 9s 268ms/step - loss: 0.5398 - accuracy: 0.7603 - val_loss: 0.4265 - val_accuracy: 0.8262\n",
            "Epoch 2/20\n",
            "30/30 [==============================] - 8s 256ms/step - loss: 0.2630 - accuracy: 0.8933 - val_loss: 0.2699 - val_accuracy: 0.8903\n",
            "Epoch 3/20\n",
            "30/30 [==============================] - 8s 257ms/step - loss: 0.1451 - accuracy: 0.9439 - val_loss: 0.3094 - val_accuracy: 0.8901\n",
            "Epoch 4/20\n",
            "30/30 [==============================] - 9s 292ms/step - loss: 0.0960 - accuracy: 0.9701 - val_loss: 0.3720 - val_accuracy: 0.8856\n",
            "Epoch 5/20\n",
            "30/30 [==============================] - 8s 262ms/step - loss: 0.0436 - accuracy: 0.9925 - val_loss: 1.4768 - val_accuracy: 0.7406\n",
            "Epoch 6/20\n",
            "30/30 [==============================] - 8s 263ms/step - loss: 0.0197 - accuracy: 0.9944 - val_loss: 0.5103 - val_accuracy: 0.8890\n",
            "Epoch 7/20\n",
            "30/30 [==============================] - 8s 262ms/step - loss: 7.0117e-04 - accuracy: 0.9999 - val_loss: 0.6253 - val_accuracy: 0.8868\n",
            "Epoch 8/20\n",
            "30/30 [==============================] - 8s 261ms/step - loss: 1.3305e-04 - accuracy: 1.0000 - val_loss: 0.7325 - val_accuracy: 0.8855\n",
            "Epoch 9/20\n",
            "30/30 [==============================] - 8s 267ms/step - loss: 2.4744e-05 - accuracy: 1.0000 - val_loss: 0.8296 - val_accuracy: 0.8859\n",
            "Epoch 10/20\n",
            "30/30 [==============================] - 9s 295ms/step - loss: 5.7224e-06 - accuracy: 1.0000 - val_loss: 0.9217 - val_accuracy: 0.8848\n",
            "Epoch 11/20\n",
            "30/30 [==============================] - 8s 265ms/step - loss: 1.4319e-06 - accuracy: 1.0000 - val_loss: 1.0076 - val_accuracy: 0.8857\n",
            "Epoch 12/20\n",
            "30/30 [==============================] - 8s 264ms/step - loss: 4.8122e-07 - accuracy: 1.0000 - val_loss: 1.0850 - val_accuracy: 0.8852\n",
            "Epoch 13/20\n",
            "30/30 [==============================] - 8s 264ms/step - loss: 1.6259e-07 - accuracy: 1.0000 - val_loss: 1.1637 - val_accuracy: 0.8849\n",
            "Epoch 14/20\n",
            "30/30 [==============================] - 8s 263ms/step - loss: 6.6086e-08 - accuracy: 1.0000 - val_loss: 1.2244 - val_accuracy: 0.8835\n",
            "Epoch 15/20\n",
            "30/30 [==============================] - 8s 264ms/step - loss: 3.4230e-08 - accuracy: 1.0000 - val_loss: 1.2553 - val_accuracy: 0.8840\n",
            "Epoch 16/20\n",
            "30/30 [==============================] - 8s 263ms/step - loss: 2.1639e-08 - accuracy: 1.0000 - val_loss: 1.2823 - val_accuracy: 0.8838\n",
            "Epoch 17/20\n",
            "30/30 [==============================] - 8s 264ms/step - loss: 1.5707e-08 - accuracy: 1.0000 - val_loss: 1.2996 - val_accuracy: 0.8845\n",
            "Epoch 18/20\n",
            "30/30 [==============================] - 8s 263ms/step - loss: 1.2367e-08 - accuracy: 1.0000 - val_loss: 1.3143 - val_accuracy: 0.8846\n",
            "Epoch 19/20\n",
            "30/30 [==============================] - 8s 263ms/step - loss: 1.0237e-08 - accuracy: 1.0000 - val_loss: 1.3261 - val_accuracy: 0.8848\n",
            "Epoch 20/20\n",
            "30/30 [==============================] - 8s 264ms/step - loss: 8.6933e-09 - accuracy: 1.0000 - val_loss: 1.3369 - val_accuracy: 0.8846\n"
          ]
        }
      ]
    },
    {
      "cell_type": "code",
      "source": [
        "from tensorflow.keras import regularizers\n",
        "model = keras.Sequential([\n",
        "    layers.Dense(16,\n",
        "                 kernel_regularizer=regularizers.l2(0.002),\n",
        "                 activation=\"relu\"),\n",
        "    layers.Dense(16,\n",
        "                 kernel_regularizer=regularizers.l2(0.002),\n",
        "                 activation=\"relu\"),\n",
        "    layers.Dense(1, activation=\"sigmoid\")\n",
        "])\n",
        "model.compile(optimizer=\"rmsprop\",\n",
        "              loss=\"binary_crossentropy\",\n",
        "              metrics=[\"accuracy\"])\n",
        "history_l2_reg = model.fit(\n",
        "    train_data, train_labels,\n",
        "    epochs=20, batch_size=512, validation_split=0.4)"
      ],
      "metadata": {
        "colab": {
          "base_uri": "https://localhost:8080/"
        },
        "id": "aazK157QVrAG",
        "outputId": "340debb5-db92-49ae-b31f-be19c5fb86ce"
      },
      "execution_count": null,
      "outputs": [
        {
          "output_type": "stream",
          "name": "stdout",
          "text": [
            "Epoch 1/20\n",
            "30/30 [==============================] - 2s 45ms/step - loss: 0.5931 - accuracy: 0.7769 - val_loss: 0.4598 - val_accuracy: 0.8674\n",
            "Epoch 2/20\n",
            "30/30 [==============================] - 1s 36ms/step - loss: 0.3963 - accuracy: 0.8954 - val_loss: 0.3909 - val_accuracy: 0.8850\n",
            "Epoch 3/20\n",
            "30/30 [==============================] - 1s 36ms/step - loss: 0.3316 - accuracy: 0.9167 - val_loss: 0.3656 - val_accuracy: 0.8925\n",
            "Epoch 4/20\n",
            "30/30 [==============================] - 1s 36ms/step - loss: 0.3016 - accuracy: 0.9273 - val_loss: 0.3616 - val_accuracy: 0.8900\n",
            "Epoch 5/20\n",
            "30/30 [==============================] - 1s 36ms/step - loss: 0.2804 - accuracy: 0.9335 - val_loss: 0.3835 - val_accuracy: 0.8792\n",
            "Epoch 6/20\n",
            "30/30 [==============================] - 1s 36ms/step - loss: 0.2677 - accuracy: 0.9393 - val_loss: 0.3703 - val_accuracy: 0.8859\n",
            "Epoch 7/20\n",
            "30/30 [==============================] - 1s 36ms/step - loss: 0.2636 - accuracy: 0.9387 - val_loss: 0.4178 - val_accuracy: 0.8656\n",
            "Epoch 8/20\n",
            "30/30 [==============================] - 1s 36ms/step - loss: 0.2545 - accuracy: 0.9422 - val_loss: 0.3784 - val_accuracy: 0.8829\n",
            "Epoch 9/20\n",
            "30/30 [==============================] - 1s 36ms/step - loss: 0.2466 - accuracy: 0.9447 - val_loss: 0.3796 - val_accuracy: 0.8816\n",
            "Epoch 10/20\n",
            "30/30 [==============================] - 1s 35ms/step - loss: 0.2390 - accuracy: 0.9482 - val_loss: 0.4005 - val_accuracy: 0.8770\n",
            "Epoch 11/20\n",
            "30/30 [==============================] - 1s 36ms/step - loss: 0.2367 - accuracy: 0.9501 - val_loss: 0.4209 - val_accuracy: 0.8701\n",
            "Epoch 12/20\n",
            "30/30 [==============================] - 1s 35ms/step - loss: 0.2327 - accuracy: 0.9507 - val_loss: 0.3922 - val_accuracy: 0.8802\n",
            "Epoch 13/20\n",
            "30/30 [==============================] - 1s 37ms/step - loss: 0.2249 - accuracy: 0.9540 - val_loss: 0.4191 - val_accuracy: 0.8724\n",
            "Epoch 14/20\n",
            "30/30 [==============================] - 1s 36ms/step - loss: 0.2300 - accuracy: 0.9495 - val_loss: 0.4202 - val_accuracy: 0.8717\n",
            "Epoch 15/20\n",
            "30/30 [==============================] - 1s 36ms/step - loss: 0.2228 - accuracy: 0.9558 - val_loss: 0.4073 - val_accuracy: 0.8766\n",
            "Epoch 16/20\n",
            "30/30 [==============================] - 1s 36ms/step - loss: 0.2172 - accuracy: 0.9566 - val_loss: 0.4092 - val_accuracy: 0.8753\n",
            "Epoch 17/20\n",
            "30/30 [==============================] - 1s 36ms/step - loss: 0.2166 - accuracy: 0.9564 - val_loss: 0.4303 - val_accuracy: 0.8704\n",
            "Epoch 18/20\n",
            "30/30 [==============================] - 1s 36ms/step - loss: 0.2167 - accuracy: 0.9570 - val_loss: 0.5020 - val_accuracy: 0.8547\n",
            "Epoch 19/20\n",
            "30/30 [==============================] - 1s 36ms/step - loss: 0.2115 - accuracy: 0.9585 - val_loss: 0.4242 - val_accuracy: 0.8735\n",
            "Epoch 20/20\n",
            "30/30 [==============================] - 1s 36ms/step - loss: 0.2119 - accuracy: 0.9587 - val_loss: 0.4214 - val_accuracy: 0.8769\n"
          ]
        }
      ]
    },
    {
      "cell_type": "code",
      "source": [
        "from tensorflow.keras import regularizers\n",
        "regularizers.l1(0.001)\n",
        "regularizers.l1_l2(l1=0.001, l2=0.001)"
      ],
      "metadata": {
        "colab": {
          "base_uri": "https://localhost:8080/"
        },
        "id": "yrfUsol3V4kk",
        "outputId": "2fd0cd77-1a9d-4e1c-ddbb-f1b51e17e354"
      },
      "execution_count": null,
      "outputs": [
        {
          "output_type": "execute_result",
          "data": {
            "text/plain": [
              "<keras.regularizers.L1L2 at 0x7f33ff853e50>"
            ]
          },
          "metadata": {},
          "execution_count": 15
        }
      ]
    },
    {
      "cell_type": "code",
      "source": [
        "model = keras.Sequential([\n",
        "    layers.Dense(16, activation=\"relu\"),\n",
        "    layers.Dropout(0.5),\n",
        "    layers.Dense(16, activation=\"relu\"),\n",
        "    layers.Dropout(0.5),\n",
        "    layers.Dense(1, activation=\"sigmoid\")\n",
        "])\n",
        "model.compile(optimizer=\"rmsprop\",\n",
        "              loss=\"binary_crossentropy\",\n",
        "              metrics=[\"accuracy\"])\n",
        "history_dropout = model.fit(\n",
        "    train_data, train_labels,\n",
        "    epochs=20, batch_size=512, validation_split=0.4)"
      ],
      "metadata": {
        "colab": {
          "base_uri": "https://localhost:8080/"
        },
        "id": "QNZVkAsgWAeS",
        "outputId": "0679ee72-6b6b-47fc-f124-995704aa5db7"
      },
      "execution_count": null,
      "outputs": [
        {
          "output_type": "stream",
          "name": "stdout",
          "text": [
            "Epoch 1/20\n",
            "30/30 [==============================] - 2s 45ms/step - loss: 0.6420 - accuracy: 0.6227 - val_loss: 0.5373 - val_accuracy: 0.8312\n",
            "Epoch 2/20\n",
            "30/30 [==============================] - 1s 35ms/step - loss: 0.5299 - accuracy: 0.7400 - val_loss: 0.4375 - val_accuracy: 0.8627\n",
            "Epoch 3/20\n",
            "30/30 [==============================] - 1s 35ms/step - loss: 0.4463 - accuracy: 0.8066 - val_loss: 0.3503 - val_accuracy: 0.8839\n",
            "Epoch 4/20\n",
            "30/30 [==============================] - 1s 35ms/step - loss: 0.3784 - accuracy: 0.8449 - val_loss: 0.3006 - val_accuracy: 0.8894\n",
            "Epoch 5/20\n",
            "30/30 [==============================] - 1s 36ms/step - loss: 0.3268 - accuracy: 0.8719 - val_loss: 0.2847 - val_accuracy: 0.8913\n",
            "Epoch 6/20\n",
            "30/30 [==============================] - 1s 36ms/step - loss: 0.2838 - accuracy: 0.8975 - val_loss: 0.2790 - val_accuracy: 0.8852\n",
            "Epoch 7/20\n",
            "30/30 [==============================] - 1s 35ms/step - loss: 0.2514 - accuracy: 0.9129 - val_loss: 0.2763 - val_accuracy: 0.8903\n",
            "Epoch 8/20\n",
            "30/30 [==============================] - 1s 35ms/step - loss: 0.2222 - accuracy: 0.9223 - val_loss: 0.2814 - val_accuracy: 0.8927\n",
            "Epoch 9/20\n",
            "30/30 [==============================] - 1s 35ms/step - loss: 0.2002 - accuracy: 0.9339 - val_loss: 0.2922 - val_accuracy: 0.8890\n",
            "Epoch 10/20\n",
            "30/30 [==============================] - 1s 35ms/step - loss: 0.1801 - accuracy: 0.9413 - val_loss: 0.3103 - val_accuracy: 0.8914\n",
            "Epoch 11/20\n",
            "30/30 [==============================] - 1s 35ms/step - loss: 0.1624 - accuracy: 0.9461 - val_loss: 0.3331 - val_accuracy: 0.8882\n",
            "Epoch 12/20\n",
            "30/30 [==============================] - 1s 35ms/step - loss: 0.1461 - accuracy: 0.9541 - val_loss: 0.3633 - val_accuracy: 0.8876\n",
            "Epoch 13/20\n",
            "30/30 [==============================] - 1s 35ms/step - loss: 0.1410 - accuracy: 0.9559 - val_loss: 0.3757 - val_accuracy: 0.8867\n",
            "Epoch 14/20\n",
            "27/30 [==========================>...] - ETA: 0s - loss: 0.1311 - accuracy: 0.9602"
          ]
        }
      ]
    },
    {
      "cell_type": "code",
      "source": [
        ""
      ],
      "metadata": {
        "id": "1DWyYyh6WJD8"
      },
      "execution_count": null,
      "outputs": []
    }
  ]
}